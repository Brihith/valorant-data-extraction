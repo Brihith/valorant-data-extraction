{
 "cells": [
  {
   "cell_type": "code",
   "execution_count": 2,
   "outputs": [],
   "source": [
    "import cv2 as cv, easyocr, matplotlib.pyplot as plt, pandas as pd, os,numpy as np"
   ],
   "metadata": {
    "collapsed": false,
    "ExecuteTime": {
     "end_time": "2023-08-11T16:28:18.867398300Z",
     "start_time": "2023-08-11T16:28:08.827148500Z"
    }
   }
  },
  {
   "cell_type": "code",
   "execution_count": 25,
   "outputs": [
    {
     "data": {
      "text/plain": "names      object\nroles      object\nsprites    object\ndtype: object"
     },
     "execution_count": 25,
     "metadata": {},
     "output_type": "execute_result"
    }
   ],
   "source": [
    "file = cv.imread(r'D:\\PROJECTS\\demo-analysis-timeline\\res\\frame.png', 0)\n",
    "tl = file[503:539,945:980]\n",
    "\n",
    "agent_list = agents['sprites']\n",
    "agents.dtypes\n",
    "\n",
    "\n",
    "# for agent in agent_list:\n",
    "#     agent = cv.resize(agent,(0, 0),fx=0.39, fy=0.39, interpolation = cv.INTER_AREA)\n",
    "#     result = cv.matchTemplate(tl, agent, cv.TM_CCORR_NORMED)\n",
    "#     min_val, max_val, min_loc, max_loc = cv.minMaxLoc(result)\n",
    "#     values.append(max_val)\n",
    "\n",
    "\n",
    "\n",
    "\n",
    "# values\n",
    "# print(agent_list)\n",
    "# agents = [cv.imread(agent,0) for agent in agent_list]\n",
    "\n"
   ],
   "metadata": {
    "collapsed": false,
    "ExecuteTime": {
     "end_time": "2023-08-11T16:33:28.891817800Z",
     "start_time": "2023-08-11T16:33:28.851221700Z"
    }
   }
  },
  {
   "cell_type": "code",
   "execution_count": 4,
   "outputs": [
    {
     "data": {
      "text/plain": "        names       roles                                            sprites\n0       Astra  Controller  [[  0   0   0 ... 106 107 107]\\n [  0   0   0 ...\n1      Breach   Initiator  [[  0   0   0 ...   0   0   0]\\n [  0   0   0 ...\n2   Brimstone  Controller  [[ 0  0  0 ...  0  0  0]\\n [ 0  0  0 ...  0  0...\n3     Chamber    Sentinel  [[0 0 0 ... 0 0 0]\\n [0 0 0 ... 0 0 0]\\n [0 0 ...\n4      Cypher    Sentinel  [[  0   0   0 ...   0   0   0]\\n [  0   0   0 ...\n5    Deadlock    Sentinel  [[  0   0   0 ...   0   0   0]\\n [  0   0   0 ...\n6        Fade   Initiator  [[  0   0   0 ...   0   0   0]\\n [  0   0   0 ...\n7       Gekko   Initiator  [[ 0  0  0 ...  0  0  0]\\n [ 0  0  0 ...  0  0...\n8      Harbor  Controller  [[  0   0   0 ...   0   0   0]\\n [  0   0   0 ...\n9        Jett     Duelist  [[231 227 229 ...   0   0   0]\\n [229 228 231 ...\n10      KAY/O   Initiator  [[  0   0   0 ...   0   0   0]\\n [  0   0   0 ...\n11    Killjoy    Sentinel  [[  0   0   0 ...   0   0   0]\\n [  0   0   0 ...\n12       Neon     Duelist  [[ 51  53  53 ...   0   0   0]\\n [ 52  53  55 ...\n13       Omen  Controller  [[  0   0   0 ...   0   0   0]\\n [  0   0   0 ...\n14    Phoenix     Duelist  [[  0   0   0 ...   0   0   0]\\n [  0   0   0 ...\n15       Raze     Duelist  [[  0   0   0 ...   0   0   0]\\n [  0   0   0 ...\n16      Reyna     Duelist  [[  0   0   0 ...   0   0   0]\\n [  0   0   0 ...\n17       Sage    Sentinel  [[ 0  0  0 ...  0  0  0]\\n [ 0  0  0 ...  0  0...\n18       Skye   Initiator  [[ 0  0  0 ...  0  0  0]\\n [ 0  0  0 ...  0  0...\n19       Sova   Initiator  [[  0   0   0 ...   0   0   0]\\n [  0   0   0 ...\n20      Viper  Controller  [[ 0  0  0 ...  0  0  0]\\n [ 0  0  0 ...  0  0...\n21       Yoru     Duelist  [[ 0  0  0 ...  0  0  0]\\n [ 0  0  0 ...  0  0...",
      "text/html": "<div>\n<style scoped>\n    .dataframe tbody tr th:only-of-type {\n        vertical-align: middle;\n    }\n\n    .dataframe tbody tr th {\n        vertical-align: top;\n    }\n\n    .dataframe thead th {\n        text-align: right;\n    }\n</style>\n<table border=\"1\" class=\"dataframe\">\n  <thead>\n    <tr style=\"text-align: right;\">\n      <th></th>\n      <th>names</th>\n      <th>roles</th>\n      <th>sprites</th>\n    </tr>\n  </thead>\n  <tbody>\n    <tr>\n      <th>0</th>\n      <td>Astra</td>\n      <td>Controller</td>\n      <td>[[  0   0   0 ... 106 107 107]\\n [  0   0   0 ...</td>\n    </tr>\n    <tr>\n      <th>1</th>\n      <td>Breach</td>\n      <td>Initiator</td>\n      <td>[[  0   0   0 ...   0   0   0]\\n [  0   0   0 ...</td>\n    </tr>\n    <tr>\n      <th>2</th>\n      <td>Brimstone</td>\n      <td>Controller</td>\n      <td>[[ 0  0  0 ...  0  0  0]\\n [ 0  0  0 ...  0  0...</td>\n    </tr>\n    <tr>\n      <th>3</th>\n      <td>Chamber</td>\n      <td>Sentinel</td>\n      <td>[[0 0 0 ... 0 0 0]\\n [0 0 0 ... 0 0 0]\\n [0 0 ...</td>\n    </tr>\n    <tr>\n      <th>4</th>\n      <td>Cypher</td>\n      <td>Sentinel</td>\n      <td>[[  0   0   0 ...   0   0   0]\\n [  0   0   0 ...</td>\n    </tr>\n    <tr>\n      <th>5</th>\n      <td>Deadlock</td>\n      <td>Sentinel</td>\n      <td>[[  0   0   0 ...   0   0   0]\\n [  0   0   0 ...</td>\n    </tr>\n    <tr>\n      <th>6</th>\n      <td>Fade</td>\n      <td>Initiator</td>\n      <td>[[  0   0   0 ...   0   0   0]\\n [  0   0   0 ...</td>\n    </tr>\n    <tr>\n      <th>7</th>\n      <td>Gekko</td>\n      <td>Initiator</td>\n      <td>[[ 0  0  0 ...  0  0  0]\\n [ 0  0  0 ...  0  0...</td>\n    </tr>\n    <tr>\n      <th>8</th>\n      <td>Harbor</td>\n      <td>Controller</td>\n      <td>[[  0   0   0 ...   0   0   0]\\n [  0   0   0 ...</td>\n    </tr>\n    <tr>\n      <th>9</th>\n      <td>Jett</td>\n      <td>Duelist</td>\n      <td>[[231 227 229 ...   0   0   0]\\n [229 228 231 ...</td>\n    </tr>\n    <tr>\n      <th>10</th>\n      <td>KAY/O</td>\n      <td>Initiator</td>\n      <td>[[  0   0   0 ...   0   0   0]\\n [  0   0   0 ...</td>\n    </tr>\n    <tr>\n      <th>11</th>\n      <td>Killjoy</td>\n      <td>Sentinel</td>\n      <td>[[  0   0   0 ...   0   0   0]\\n [  0   0   0 ...</td>\n    </tr>\n    <tr>\n      <th>12</th>\n      <td>Neon</td>\n      <td>Duelist</td>\n      <td>[[ 51  53  53 ...   0   0   0]\\n [ 52  53  55 ...</td>\n    </tr>\n    <tr>\n      <th>13</th>\n      <td>Omen</td>\n      <td>Controller</td>\n      <td>[[  0   0   0 ...   0   0   0]\\n [  0   0   0 ...</td>\n    </tr>\n    <tr>\n      <th>14</th>\n      <td>Phoenix</td>\n      <td>Duelist</td>\n      <td>[[  0   0   0 ...   0   0   0]\\n [  0   0   0 ...</td>\n    </tr>\n    <tr>\n      <th>15</th>\n      <td>Raze</td>\n      <td>Duelist</td>\n      <td>[[  0   0   0 ...   0   0   0]\\n [  0   0   0 ...</td>\n    </tr>\n    <tr>\n      <th>16</th>\n      <td>Reyna</td>\n      <td>Duelist</td>\n      <td>[[  0   0   0 ...   0   0   0]\\n [  0   0   0 ...</td>\n    </tr>\n    <tr>\n      <th>17</th>\n      <td>Sage</td>\n      <td>Sentinel</td>\n      <td>[[ 0  0  0 ...  0  0  0]\\n [ 0  0  0 ...  0  0...</td>\n    </tr>\n    <tr>\n      <th>18</th>\n      <td>Skye</td>\n      <td>Initiator</td>\n      <td>[[ 0  0  0 ...  0  0  0]\\n [ 0  0  0 ...  0  0...</td>\n    </tr>\n    <tr>\n      <th>19</th>\n      <td>Sova</td>\n      <td>Initiator</td>\n      <td>[[  0   0   0 ...   0   0   0]\\n [  0   0   0 ...</td>\n    </tr>\n    <tr>\n      <th>20</th>\n      <td>Viper</td>\n      <td>Controller</td>\n      <td>[[ 0  0  0 ...  0  0  0]\\n [ 0  0  0 ...  0  0...</td>\n    </tr>\n    <tr>\n      <th>21</th>\n      <td>Yoru</td>\n      <td>Duelist</td>\n      <td>[[ 0  0  0 ...  0  0  0]\\n [ 0  0  0 ...  0  0...</td>\n    </tr>\n  </tbody>\n</table>\n</div>"
     },
     "execution_count": 4,
     "metadata": {},
     "output_type": "execute_result"
    }
   ],
   "source": [
    "agents = pd.read_csv(r'D:\\PROJECTS\\demo-analysis-timeline\\res\\agentinfo.csv', header=0)\n",
    "agents"
   ],
   "metadata": {
    "collapsed": false,
    "ExecuteTime": {
     "end_time": "2023-08-11T16:28:24.488899100Z",
     "start_time": "2023-08-11T16:28:24.344734100Z"
    }
   }
  },
  {
   "cell_type": "code",
   "execution_count": null,
   "outputs": [],
   "source": [
    "temp = cv.matchTemplate(jett, file, cv.TM_CCORR_NORMED)\n",
    "min_val, max_val, min_loc, max_loc = cv.minMaxLoc(temp)\n",
    "print(max_val)"
   ],
   "metadata": {
    "collapsed": false
   }
  },
  {
   "cell_type": "code",
   "execution_count": null,
   "outputs": [],
   "source": [
    "plt.figure(figsize=(10,15))\n",
    "plt.imshow(jett)"
   ],
   "metadata": {
    "collapsed": false
   }
  },
  {
   "cell_type": "code",
   "execution_count": null,
   "outputs": [],
   "source": [
    "reader = easyocr.Reader(['en'])\n",
    "res = reader.readtext(file)\n",
    "print(res)\n",
    "for (bbox, text, prob) in res:\n",
    "\n",
    "  (tl, tr, br, bl) = bbox\n",
    "  tl = (int(tl[0]), int(tl[1]))\n",
    "  tr = (int(tr[0]), int(tr[1]))\n",
    "  br = (int(br[0]), int(br[1]))\n",
    "  bl = (int(bl[0]), int(bl[1]))\n",
    "  cv.rectangle(file, tl, br, (0, 255, 0), 2)"
   ],
   "metadata": {
    "collapsed": false
   }
  },
  {
   "cell_type": "code",
   "execution_count": 159,
   "outputs": [
    {
     "name": "stdout",
     "output_type": "stream",
     "text": [
      "12 HI 0.7981085777282715\n"
     ]
    }
   ],
   "source": [
    "file = cv.imread(r'D:\\PROJECTS\\demo-analysis-timeline\\res\\mykill.png', 0)\n",
    "tl = file[503:539,945:980]\n",
    "jett = cv.imread(r'D:\\PROJECTS\\demo-analysis-timeline\\res\\sprites\\jett.png', 0)\n",
    "# agent_list = agents['sprites']\n",
    "values = []\n",
    "sprite_path = r'D:\\PROJECTS\\demo-analysis-timeline\\res\\sprites'\n",
    "dir_list = os.listdir(sprite_path)\n",
    "\n",
    "sprite_list = []\n",
    "for i,file in enumerate(dir_list):\n",
    "  file = os.path.join(sprite_path,file)\n",
    "  img = cv.imread(file,0)\n",
    "  sprite_list.append(img)\n",
    "\n",
    "for agent in sprite_list:\n",
    "    agent = cv.resize(agent,(0, 0),fx=0.39, fy=0.39, interpolation = cv.INTER_AREA)\n",
    "    result = cv.matchTemplate(tl, agent, cv.TM_CCORR_NORMED)\n",
    "    min_val, max_val, min_loc, max_loc = cv.minMaxLoc(result)\n",
    "    values.append(max_val)\n",
    "\n",
    "\n",
    "print(values.index(max(values)),\"HI\",max(values))\n",
    "# print(agent_list)\n",
    "# agents = [cv.imread(agent,0) for agent in agent_list]\n",
    "\n"
   ],
   "metadata": {
    "collapsed": false,
    "ExecuteTime": {
     "end_time": "2023-08-11T17:47:22.327740100Z",
     "start_time": "2023-08-11T17:47:22.231806800Z"
    }
   }
  },
  {
   "cell_type": "code",
   "execution_count": null,
   "outputs": [],
   "source": [
    "# agents.sort_values(by='names',axis=0,inplace=True)\n",
    "# agents.reset_index(inplace=True,drop=True)\n",
    "# agents\n",
    "# agents.to_csv(r'D:\\PROJECTS\\demo-analysis-timeline\\res\\agentinfo.csv')"
   ],
   "metadata": {
    "collapsed": false
   }
  },
  {
   "cell_type": "code",
   "execution_count": null,
   "outputs": [],
   "source": [
    "import cv2 as cv, easyocr, tkinter, numpy as np, matplotlib.pyplot as plt\n",
    "\n",
    "reader = easyocr.Reader(['en'])\n",
    "\n",
    "# def preprocessing(img):\n",
    "#     \"\"\" Perfrom all the image preprocessing here. Not sure how to handle different images needing different preprocessing\n",
    "#     but lets see.\"\"\"\n",
    "#     return finalimg\n",
    "#\n",
    "# def run_ocr(img):\n",
    "#     result = reader.readtext(img, detail=0)\n",
    "#     return result\n",
    "\n",
    "\n",
    "ogfile = cv.imread('../res/frame.png')\n",
    "# cv.imshow('test',file[50:200,50:200])\n",
    "file = ogfile[50:200,50:200]\n",
    "gray = cv.cvtColor(file, cv.COLOR_BGR2GRAY)\n",
    "plt.imshow(gray)\n",
    "plt.show()\n",
    "print(reader.readtext(gray,detail=0))\n",
    "\n",
    "\n",
    "\n",
    "cv.waitKey(0)\n",
    "\n",
    "\n"
   ],
   "metadata": {
    "collapsed": false
   }
  },
  {
   "cell_type": "code",
   "execution_count": null,
   "outputs": [],
   "source": [
    "# import tkinter as tk\n",
    "# from tkinter import *\n",
    "# from tkinter import Label, font\n",
    "#\n",
    "# win = tk.Tk()\n",
    "# fonts=list(font.families())\n",
    "# rowcount = 0\n",
    "# columncount =0\n",
    "#\n",
    "# for i in fonts:\n",
    "#     if rowcount % 30 == 0:\n",
    "#         columncount+=1\n",
    "#         rowcount = 0\n",
    "#     Label(win,text = i, font =(i,10,'bold')).grid(row=rowcount, column=columncount)\n",
    "#     rowcount+=1\n",
    "#\n",
    "# win.mainloop()"
   ],
   "metadata": {
    "collapsed": false
   }
  },
  {
   "cell_type": "code",
   "execution_count": null,
   "outputs": [],
   "source": [
    "# /# file = cv.bitwise_not(file)\n",
    "# file = cv.cvtColor(file, cv.COLOR_BGR2GRAY)\n",
    "# ret, file = cv.threshold(file, 150,30, 0)\n",
    "# plt.figure(figsize=(10,15))\n",
    "# plt.imshow(file)"
   ],
   "metadata": {
    "collapsed": false
   }
  },
  {
   "cell_type": "code",
   "execution_count": null,
   "outputs": [],
   "source": [
    "agents"
   ],
   "metadata": {
    "collapsed": false
   }
  },
  {
   "cell_type": "code",
   "execution_count": 111,
   "outputs": [
    {
     "name": "stdout",
     "output_type": "stream",
     "text": [
      "22\n"
     ]
    },
    {
     "data": {
      "text/plain": "names      object\nroles      object\nsprites    object\ndtype: object"
     },
     "execution_count": 111,
     "metadata": {},
     "output_type": "execute_result"
    }
   ],
   "source": [
    "agents = pd.read_csv(r'D:\\PROJECTS\\demo-analysis-timeline\\res\\agentinfo.csv', header=0)\n",
    "sprite_path = r'D:\\PROJECTS\\demo-analysis-timeline\\res\\sprites'\n",
    "dir_list = os.listdir(sprite_path)\n",
    "print(len(dir_list))\n",
    "sprite_list = []\n",
    "for i,file in enumerate(dir_list):\n",
    "  file = os.path.join(sprite_path,file)\n",
    "  img = cv.imread(file,0)\n",
    "  sprite_list.append(img)\n",
    "\n",
    "\n",
    "for i, sprite in enumerate(sprite_list):\n",
    "    agents.iloc[i][2] = sprite\n",
    "\n",
    "test = agents['sprites']\n",
    "type(test[0])\n",
    "\n",
    "\n",
    "agents.infer_objects().dtypes\n",
    "#\n",
    "# agents.to_csv(r'D:\\PROJECTS\\demo-analysis-timeline\\res\\agentinfond.csv')"
   ],
   "metadata": {
    "collapsed": false,
    "ExecuteTime": {
     "end_time": "2023-08-11T17:15:07.481843200Z",
     "start_time": "2023-08-11T17:15:07.463588700Z"
    }
   }
  },
  {
   "cell_type": "code",
   "execution_count": 144,
   "outputs": [
    {
     "data": {
      "text/plain": "array('[[  0   0   0 ... 106 107 107]\\n [  0   0   0 ...   2  93 255]\\n [  0   0   0 ... 105 104 106]\\n ...\\n [ 17  20  16 ...   2   1   1]\\n [ 17  20  16 ...   0   0   1]\\n [ 17  20  21 ...   0   0   0]]',\n      dtype='<U191')"
     },
     "execution_count": 144,
     "metadata": {},
     "output_type": "execute_result"
    }
   ],
   "source": [
    "agentsnd = pd.read_csv(r'D:\\PROJECTS\\demo-analysis-timeline\\res\\agentinfond.csv')\n",
    "test = agentsnd['sprites'].values\n",
    "test1 = np.array(test[0])\n",
    "test1\n"
   ],
   "metadata": {
    "collapsed": false,
    "ExecuteTime": {
     "end_time": "2023-08-11T17:22:12.594418200Z",
     "start_time": "2023-08-11T17:22:12.581913500Z"
    }
   }
  },
  {
   "cell_type": "code",
   "execution_count": null,
   "outputs": [],
   "source": [],
   "metadata": {
    "collapsed": false
   }
  }
 ],
 "metadata": {
  "kernelspec": {
   "display_name": "Python 3",
   "language": "python",
   "name": "python3"
  },
  "language_info": {
   "codemirror_mode": {
    "name": "ipython",
    "version": 2
   },
   "file_extension": ".py",
   "mimetype": "text/x-python",
   "name": "python",
   "nbconvert_exporter": "python",
   "pygments_lexer": "ipython2",
   "version": "2.7.6"
  }
 },
 "nbformat": 4,
 "nbformat_minor": 0
}
