{
 "cells": [
  {
   "cell_type": "code",
   "execution_count": null,
   "outputs": [],
   "source": [
    "import cv2 as cv, easyocr, matplotlib.pyplot as plt, pandas as pd, os,numpy as np"
   ],
   "metadata": {
    "collapsed": false
   }
  },
  {
   "cell_type": "code",
   "execution_count": null,
   "outputs": [],
   "source": [
    "agents = pd.read_csv(r'D:\\PROJECTS\\demo-analysis-timeline\\res\\agentinfo.csv', header=0)\n",
    "agents"
   ],
   "metadata": {
    "collapsed": false
   }
  },
  {
   "cell_type": "code",
   "execution_count": 13,
   "outputs": [
    {
     "name": "stdout",
     "output_type": "stream",
     "text": [
      "22\n",
      "[array([[  0,   0,   0, ..., 106, 107, 107],\n",
      "       [  0,   0,   0, ...,   2,  93, 255],\n",
      "       [  0,   0,   0, ..., 105, 104, 106],\n",
      "       ...,\n",
      "       [ 17,  20,  16, ...,   2,   1,   1],\n",
      "       [ 17,  20,  16, ...,   0,   0,   1],\n",
      "       [ 17,  20,  21, ...,   0,   0,   0]], dtype=uint8), array([[  0,   0,   0, ...,   0,   0,   0],\n",
      "       [  0,   0,   0, ...,   0,   0,   0],\n",
      "       [  0,   0,   0, ...,   0,   0,   0],\n",
      "       ...,\n",
      "       [ 28,  28,  28, ..., 228,  82,  28],\n",
      "       [ 28,  28,  28, ..., 251, 171,  61],\n",
      "       [ 28,  28,  28, ..., 252, 220,  98]], dtype=uint8), array([[ 0,  0,  0, ...,  0,  0,  0],\n",
      "       [ 0,  0,  0, ...,  0,  0,  0],\n",
      "       [ 0,  0,  0, ...,  0,  0,  0],\n",
      "       ...,\n",
      "       [61, 61, 60, ...,  0,  0,  0],\n",
      "       [61, 61, 60, ...,  0,  0,  0],\n",
      "       [61, 61, 60, ...,  0,  0,  0]], dtype=uint8), array([[0, 0, 0, ..., 0, 0, 0],\n",
      "       [0, 0, 0, ..., 0, 0, 0],\n",
      "       [0, 0, 0, ..., 0, 0, 0],\n",
      "       ...,\n",
      "       [0, 0, 0, ..., 0, 0, 0],\n",
      "       [0, 0, 0, ..., 0, 0, 0],\n",
      "       [0, 0, 0, ..., 0, 0, 0]], dtype=uint8), array([[  0,   0,   0, ...,   0,   0,   0],\n",
      "       [  0,   0,   0, ...,   0,   0,   0],\n",
      "       [  0,   0,   0, ...,   0,   0,   0],\n",
      "       ...,\n",
      "       [240, 250, 248, ...,  21,  43,  68],\n",
      "       [248, 248, 248, ...,  28,  21,  21],\n",
      "       [248, 248, 252, ...,  61,  43,  21]], dtype=uint8), array([[  0,   0,   0, ...,   0,   0,   0],\n",
      "       [  0,   0,   0, ...,   0,   0,   0],\n",
      "       [  0,   0,   0, ...,   0,   0,   0],\n",
      "       ...,\n",
      "       [ 46,  39,  39, ...,   0, 255, 255],\n",
      "       [ 39,  43,  43, ...,   0,   0,   0],\n",
      "       [ 43,  43,  43, ..., 207, 215, 220]], dtype=uint8), array([[  0,   0,   0, ...,   0,   0,   0],\n",
      "       [  0,   0,   0, ...,   0,   0,   0],\n",
      "       [  0,   0,   0, ...,   0,   0,   0],\n",
      "       ...,\n",
      "       [ 46,  59, 118, ..., 255,   0,   0],\n",
      "       [ 59,  53,  98, ..., 255,   0,   0],\n",
      "       [ 64,  59,  66, ..., 255,   0,   0]], dtype=uint8), array([[ 0,  0,  0, ...,  0,  0,  0],\n",
      "       [ 0,  0,  0, ...,  0,  0,  0],\n",
      "       [ 0,  0,  0, ...,  0,  0,  0],\n",
      "       ...,\n",
      "       [59, 59, 50, ...,  0,  0,  0],\n",
      "       [90, 90, 87, ...,  0,  0,  0],\n",
      "       [87, 87, 87, ...,  0,  0,  0]], dtype=uint8), array([[  0,   0,   0, ...,   0,   0,   0],\n",
      "       [  0,   0,   0, ...,   0,   0,   0],\n",
      "       [  0,   0,   0, ...,   0,   0,   0],\n",
      "       ...,\n",
      "       [ 38,  34,  34, ..., 103, 122, 125],\n",
      "       [ 55,  47,  40, ..., 112, 100, 110],\n",
      "       [ 70,  65,  57, ..., 146, 128, 105]], dtype=uint8), array([[231, 227, 229, ...,   0,   0,   0],\n",
      "       [229, 228, 231, ...,   0,   0,   0],\n",
      "       [227, 230, 233, ...,   0,   0,   0],\n",
      "       ...,\n",
      "       [ 83,  83,  82, ...,   0,   0,   0],\n",
      "       [ 83,  83,  82, ...,   0,   0,   0],\n",
      "       [ 87,  83,  82, ...,   0,   0,   0]], dtype=uint8), array([[  0,   0,   0, ...,   0,   0,   0],\n",
      "       [  0,   0,   0, ...,   0,   0,   0],\n",
      "       [  0,   0,   0, ...,   0,   0,   0],\n",
      "       ...,\n",
      "       [ 92,  70,  61, ..., 138, 118, 102],\n",
      "       [ 87,  90,  74, ..., 182, 186, 176],\n",
      "       [ 87,  87,  92, ..., 176, 174, 175]], dtype=uint8), array([[  0,   0,   0, ...,   0,   0,   0],\n",
      "       [  0,   0,   0, ...,   0,   0,   0],\n",
      "       [  0,   0,   0, ...,   0,   0,   0],\n",
      "       ...,\n",
      "       [218, 217, 217, ...,   0,   0,   0],\n",
      "       [219, 218, 218, ...,   0,   0,   0],\n",
      "       [198, 209, 219, ...,   0,   0,   0]], dtype=uint8), array([[ 51,  53,  53, ...,   0,   0,   0],\n",
      "       [ 52,  53,  55, ...,   0,   0,   0],\n",
      "       [ 68,  56,  49, ...,   0,   0,   0],\n",
      "       ...,\n",
      "       [142, 142, 148, ...,   0,   0,   0],\n",
      "       [139, 139, 139, ...,   0,   0,   0],\n",
      "       [137, 138, 136, ...,   0,   0,   0]], dtype=uint8), array([[  0,   0,   0, ...,   0,   0,   0],\n",
      "       [  0,   0,   0, ...,   0,   0,   0],\n",
      "       [  0,   0,   0, ...,   0,   0,   0],\n",
      "       ...,\n",
      "       [ 81,  81,  80, ..., 178, 253, 118],\n",
      "       [ 81,  81,  80, ..., 104, 254, 120],\n",
      "       [ 80,  81,  80, ...,  55, 210, 120]], dtype=uint8), array([[  0,   0,   0, ...,   0,   0,   0],\n",
      "       [  0,   0,   0, ...,   0,   0,   0],\n",
      "       [  0,   0,   0, ...,   0,   0,   0],\n",
      "       ...,\n",
      "       [119, 118, 117, ...,  78,  64,  34],\n",
      "       [125, 126, 131, ...,  95,  43,  35],\n",
      "       [155, 157, 163, ...,  59,  34,  34]], dtype=uint8), array([[  0,   0,   0, ...,   0,   0,   0],\n",
      "       [  0,   0,   0, ...,   0,   0,   0],\n",
      "       [  0,   0,   0, ...,   0,   0,   0],\n",
      "       ...,\n",
      "       [146, 145, 146, ...,   0,   0,   0],\n",
      "       [146, 144, 146, ...,   0,   0,   0],\n",
      "       [146, 146, 145, ...,   0,   0,   0]], dtype=uint8), array([[  0,   0,   0, ...,   0,   0,   0],\n",
      "       [  0,   0,   0, ...,   0,   0,   0],\n",
      "       [  0,   0,   0, ...,   0,   0,   0],\n",
      "       ...,\n",
      "       [ 46,  56,  34, ..., 114, 109, 117],\n",
      "       [ 56,  50,  34, ...,  85,  84,  82],\n",
      "       [ 59,  39,  34, ...,  87,  87,  89]], dtype=uint8), array([[ 0,  0,  0, ...,  0,  0,  0],\n",
      "       [ 0,  0,  0, ...,  0,  0,  0],\n",
      "       [ 0,  0,  0, ...,  0,  0,  0],\n",
      "       ...,\n",
      "       [21, 21, 21, ...,  0,  0,  0],\n",
      "       [21, 21, 21, ...,  0,  0,  0],\n",
      "       [21, 21, 21, ...,  0,  0,  0]], dtype=uint8), array([[ 0,  0,  0, ...,  0,  0,  0],\n",
      "       [ 0,  0,  0, ...,  0,  0,  0],\n",
      "       [ 0,  0,  0, ...,  0,  0,  0],\n",
      "       ...,\n",
      "       [21, 21, 21, ...,  0,  0,  0],\n",
      "       [ 0,  0,  0, ...,  0,  0,  0],\n",
      "       [ 0,  0, 34, ...,  0,  0,  0]], dtype=uint8), array([[  0,   0,   0, ...,   0,   0,   0],\n",
      "       [  0,   0,   0, ...,   0,   0,   0],\n",
      "       [  0,   0,   0, ...,   0,   0,   0],\n",
      "       ...,\n",
      "       [102, 102, 102, ...,   0,   0,   0],\n",
      "       [103, 103, 102, ...,   0,   0,   0],\n",
      "       [105, 103, 102, ...,   0,   0,   0]], dtype=uint8), array([[ 0,  0,  0, ...,  0,  0,  0],\n",
      "       [ 0,  0,  0, ...,  0,  0,  0],\n",
      "       [ 0,  0,  0, ...,  0,  0,  0],\n",
      "       ...,\n",
      "       [43, 43, 43, ...,  0,  0,  0],\n",
      "       [43, 43, 43, ...,  0,  0,  0],\n",
      "       [43, 43, 43, ...,  0,  0,  0]], dtype=uint8), array([[ 0,  0,  0, ...,  0,  0,  0],\n",
      "       [ 0,  0,  0, ...,  0,  0,  0],\n",
      "       [ 0,  0,  0, ...,  0,  0,  0],\n",
      "       ...,\n",
      "       [56, 64, 82, ...,  0,  0,  0],\n",
      "       [43, 64, 92, ...,  0,  0,  0],\n",
      "       [34, 46, 84, ...,  0,  0,  0]], dtype=uint8)]\n"
     ]
    },
    {
     "data": {
      "text/plain": "[0.7319819927215576,\n 0.8048059940338135,\n 0.8182042241096497,\n 0.7677084803581238,\n 0.7866975665092468,\n 0.8825157880783081,\n 0.7786962389945984,\n 0.8587709665298462,\n 0.7908117175102234,\n 0.9482178092002869,\n 0.707362949848175,\n 0.7339830994606018,\n 0.8315894603729248,\n 0.7741451263427734,\n 0.6972894072532654,\n 0.8207824230194092,\n 0.7543715834617615,\n 0.7672557234764099,\n 0.8361349701881409,\n 0.8365550637245178,\n 0.6856862306594849,\n 0.7652037739753723]"
     },
     "execution_count": 13,
     "metadata": {},
     "output_type": "execute_result"
    }
   ],
   "source": [
    "file = cv.imread(r'D:\\PROJECTS\\demo-analysis-timeline\\res\\frame.png', 0)\n",
    "tl = file[503:539,945:980]\n",
    "jett = cv.imread(r'D:\\PROJECTS\\demo-analysis-timeline\\res\\sprites\\jett.png', 0)\n",
    "# agent_list = agents['sprites']\n",
    "values = []\n",
    "sprite_path = r'D:\\PROJECTS\\demo-analysis-timeline\\res\\sprites'\n",
    "dir_list = os.listdir(sprite_path)\n",
    "print(len(dir_list))\n",
    "sprite_list = []\n",
    "for i,file in enumerate(dir_list):\n",
    "  file = os.path.join(sprite_path,file)\n",
    "  img = cv.imread(file,0)\n",
    "  sprite_list.append(img)\n",
    "print(sprite_list)\n",
    "for agent in sprite_list:\n",
    "    agent = cv.resize(agent,(0, 0),fx=0.39, fy=0.39, interpolation = cv.INTER_AREA)\n",
    "    result = cv.matchTemplate(tl, agent, cv.TM_CCORR_NORMED)\n",
    "    min_val, max_val, min_loc, max_loc = cv.minMaxLoc(result)\n",
    "    values.append(max_val)\n",
    "\n",
    "\n",
    "values\n",
    "# print(agent_list)\n",
    "# agents = [cv.imread(agent,0) for agent in agent_list]\n",
    "\n"
   ],
   "metadata": {
    "collapsed": false,
    "ExecuteTime": {
     "end_time": "2023-08-11T11:04:24.743575800Z",
     "start_time": "2023-08-11T11:04:24.691352600Z"
    }
   }
  },
  {
   "cell_type": "code",
   "execution_count": null,
   "outputs": [],
   "source": [
    "temp = cv.matchTemplate(jett, file, cv.TM_CCORR_NORMED)\n",
    "min_val, max_val, min_loc, max_loc = cv.minMaxLoc(temp)\n",
    "print(max_val)"
   ],
   "metadata": {
    "collapsed": false
   }
  },
  {
   "cell_type": "code",
   "execution_count": null,
   "outputs": [],
   "source": [
    "plt.figure(figsize=(10,15))\n",
    "plt.imshow(jett)"
   ],
   "metadata": {
    "collapsed": false
   }
  },
  {
   "cell_type": "code",
   "execution_count": null,
   "outputs": [],
   "source": [
    "reader = easyocr.Reader(['en'])\n",
    "res = reader.readtext(file)\n",
    "print(res)\n",
    "for (bbox, text, prob) in res:\n",
    "\n",
    "  (tl, tr, br, bl) = bbox\n",
    "  tl = (int(tl[0]), int(tl[1]))\n",
    "  tr = (int(tr[0]), int(tr[1]))\n",
    "  br = (int(br[0]), int(br[1]))\n",
    "  bl = (int(bl[0]), int(bl[1]))\n",
    "  cv.rectangle(file, tl, br, (0, 255, 0), 2)"
   ],
   "metadata": {
    "collapsed": false
   }
  },
  {
   "cell_type": "code",
   "execution_count": null,
   "outputs": [],
   "source": [
    "# agents.sort_values(by='names',axis=0,inplace=True)\n",
    "# agents.reset_index(inplace=True,drop=True)\n",
    "# agents\n",
    "# agents.to_csv(r'D:\\PROJECTS\\demo-analysis-timeline\\res\\agentinfo.csv')"
   ],
   "metadata": {
    "collapsed": false
   }
  },
  {
   "cell_type": "code",
   "execution_count": null,
   "outputs": [],
   "source": [
    "import cv2 as cv, easyocr, tkinter, numpy as np, matplotlib.pyplot as plt\n",
    "\n",
    "reader = easyocr.Reader(['en'])\n",
    "\n",
    "# def preprocessing(img):\n",
    "#     \"\"\" Perfrom all the image preprocessing here. Not sure how to handle different images needing different preprocessing\n",
    "#     but lets see.\"\"\"\n",
    "#     return finalimg\n",
    "#\n",
    "# def run_ocr(img):\n",
    "#     result = reader.readtext(img, detail=0)\n",
    "#     return result\n",
    "\n",
    "\n",
    "ogfile = cv.imread('../res/frame.png')\n",
    "# cv.imshow('test',file[50:200,50:200])\n",
    "file = ogfile[50:200,50:200]\n",
    "gray = cv.cvtColor(file, cv.COLOR_BGR2GRAY)\n",
    "plt.imshow(gray)\n",
    "plt.show()\n",
    "print(reader.readtext(gray,detail=0))\n",
    "\n",
    "\n",
    "\n",
    "cv.waitKey(0)\n",
    "\n",
    "\n"
   ],
   "metadata": {
    "collapsed": false
   }
  },
  {
   "cell_type": "code",
   "execution_count": null,
   "outputs": [],
   "source": [
    "# import tkinter as tk\n",
    "# from tkinter import *\n",
    "# from tkinter import Label, font\n",
    "#\n",
    "# win = tk.Tk()\n",
    "# fonts=list(font.families())\n",
    "# rowcount = 0\n",
    "# columncount =0\n",
    "#\n",
    "# for i in fonts:\n",
    "#     if rowcount % 30 == 0:\n",
    "#         columncount+=1\n",
    "#         rowcount = 0\n",
    "#     Label(win,text = i, font =(i,10,'bold')).grid(row=rowcount, column=columncount)\n",
    "#     rowcount+=1\n",
    "#\n",
    "# win.mainloop()"
   ],
   "metadata": {
    "collapsed": false
   }
  },
  {
   "cell_type": "code",
   "execution_count": null,
   "outputs": [],
   "source": [
    "# /# file = cv.bitwise_not(file)\n",
    "# file = cv.cvtColor(file, cv.COLOR_BGR2GRAY)\n",
    "# ret, file = cv.threshold(file, 150,30, 0)\n",
    "# plt.figure(figsize=(10,15))\n",
    "# plt.imshow(file)"
   ],
   "metadata": {
    "collapsed": false
   }
  },
  {
   "cell_type": "code",
   "execution_count": null,
   "outputs": [],
   "source": [
    "agents"
   ],
   "metadata": {
    "collapsed": false
   }
  },
  {
   "cell_type": "code",
   "execution_count": null,
   "outputs": [],
   "source": [
    "agents = pd.read_csv(r'D:\\PROJECTS\\demo-analysis-timeline\\res\\agentinfo.csv', header=0)\n",
    "# sprite_path = r'D:\\PROJECTS\\demo-analysis-timeline\\res\\sprites'\n",
    "# dir_list = os.listdir(sprite_path)\n",
    "# print(len(dir_list))\n",
    "# sprite_list = []\n",
    "# for i,file in enumerate(dir_list):\n",
    "#   file = os.path.join(sprite_path,file)\n",
    "#   img = cv.imread(file,0)\n",
    "#   sprite_list.append(img)\n",
    "#\n",
    "# print(dir_list)\n",
    "#\n",
    "# agents.sprites = sprite_list\n",
    "# agents\n",
    "# agents.to_csv(r'D:\\PROJECTS\\demo-analysis-timeline\\res\\agentinfo.csv')"
   ],
   "metadata": {
    "collapsed": false
   }
  },
  {
   "cell_type": "code",
   "execution_count": null,
   "outputs": [],
   "source": [
    "agents"
   ],
   "metadata": {
    "collapsed": false
   }
  },
  {
   "cell_type": "code",
   "execution_count": null,
   "outputs": [],
   "source": [],
   "metadata": {
    "collapsed": false
   }
  }
 ],
 "metadata": {
  "kernelspec": {
   "display_name": "Python 3",
   "language": "python",
   "name": "python3"
  },
  "language_info": {
   "codemirror_mode": {
    "name": "ipython",
    "version": 2
   },
   "file_extension": ".py",
   "mimetype": "text/x-python",
   "name": "python",
   "nbconvert_exporter": "python",
   "pygments_lexer": "ipython2",
   "version": "2.7.6"
  }
 },
 "nbformat": 4,
 "nbformat_minor": 0
}
