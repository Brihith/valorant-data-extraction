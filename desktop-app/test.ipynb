{
 "cells": [
  {
   "cell_type": "code",
   "execution_count": 2,
   "metadata": {
    "ExecuteTime": {
     "end_time": "2023-08-13T05:35:34.981690400Z",
     "start_time": "2023-08-13T05:35:26.150124700Z"
    },
    "collapsed": false,
    "jupyter": {
     "outputs_hidden": false
    }
   },
   "outputs": [],
   "source": [
    "import cv2 as cv, easyocr, matplotlib.pyplot as plt, pandas as pd, os, numpy as np"
   ]
  },
  {
   "cell_type": "code",
   "execution_count": 25,
   "metadata": {
    "ExecuteTime": {
     "end_time": "2023-08-11T16:33:28.891817800Z",
     "start_time": "2023-08-11T16:33:28.851221700Z"
    },
    "collapsed": false,
    "jupyter": {
     "outputs_hidden": false
    }
   },
   "outputs": [
    {
     "data": {
      "text/plain": [
       "names      object\n",
       "roles      object\n",
       "sprites    object\n",
       "dtype: object"
      ]
     },
     "execution_count": 25,
     "metadata": {},
     "output_type": "execute_result"
    }
   ],
   "source": [
    "file = cv.imread(r'D:\\PROJECTS\\demo-analysis-timeline\\res\\frame.png', 0)\n",
    "tl = file[503:539,945:980]\n",
    "\n",
    "agent_list = agents['sprites']\n",
    "agents.dtypes\n",
    "\n",
    "\n",
    "# for agent in agent_list:\n",
    "#     agent = cv.resize(agent,(0, 0),fx=0.39, fy=0.39, interpolation = cv.INTER_AREA)\n",
    "#     result = cv.matchTemplate(tl, agent, cv.TM_CCORR_NORMED)\n",
    "#     min_val, max_val, min_loc, max_loc = cv.minMaxLoc(result)\n",
    "#     values.append(max_val)\n",
    "\n",
    "\n",
    "\n",
    "\n",
    "# values\n",
    "# print(agent_list)\n",
    "# agents = [cv.imread(agent,0) for agent in agent_list]\n",
    "\n"
   ]
  },
  {
   "cell_type": "code",
   "execution_count": 4,
   "metadata": {
    "ExecuteTime": {
     "end_time": "2023-08-11T16:28:24.488899100Z",
     "start_time": "2023-08-11T16:28:24.344734100Z"
    },
    "collapsed": false,
    "jupyter": {
     "outputs_hidden": false
    }
   },
   "outputs": [
    {
     "data": {
      "text/html": [
       "<div>\n",
       "<style scoped>\n",
       "    .dataframe tbody tr th:only-of-type {\n",
       "        vertical-align: middle;\n",
       "    }\n",
       "\n",
       "    .dataframe tbody tr th {\n",
       "        vertical-align: top;\n",
       "    }\n",
       "\n",
       "    .dataframe thead th {\n",
       "        text-align: right;\n",
       "    }\n",
       "</style>\n",
       "<table border=\"1\" class=\"dataframe\">\n",
       "  <thead>\n",
       "    <tr style=\"text-align: right;\">\n",
       "      <th></th>\n",
       "      <th>names</th>\n",
       "      <th>roles</th>\n",
       "      <th>sprites</th>\n",
       "    </tr>\n",
       "  </thead>\n",
       "  <tbody>\n",
       "    <tr>\n",
       "      <th>0</th>\n",
       "      <td>Astra</td>\n",
       "      <td>Controller</td>\n",
       "      <td>[[  0   0   0 ... 106 107 107]\\n [  0   0   0 ...</td>\n",
       "    </tr>\n",
       "    <tr>\n",
       "      <th>1</th>\n",
       "      <td>Breach</td>\n",
       "      <td>Initiator</td>\n",
       "      <td>[[  0   0   0 ...   0   0   0]\\n [  0   0   0 ...</td>\n",
       "    </tr>\n",
       "    <tr>\n",
       "      <th>2</th>\n",
       "      <td>Brimstone</td>\n",
       "      <td>Controller</td>\n",
       "      <td>[[ 0  0  0 ...  0  0  0]\\n [ 0  0  0 ...  0  0...</td>\n",
       "    </tr>\n",
       "    <tr>\n",
       "      <th>3</th>\n",
       "      <td>Chamber</td>\n",
       "      <td>Sentinel</td>\n",
       "      <td>[[0 0 0 ... 0 0 0]\\n [0 0 0 ... 0 0 0]\\n [0 0 ...</td>\n",
       "    </tr>\n",
       "    <tr>\n",
       "      <th>4</th>\n",
       "      <td>Cypher</td>\n",
       "      <td>Sentinel</td>\n",
       "      <td>[[  0   0   0 ...   0   0   0]\\n [  0   0   0 ...</td>\n",
       "    </tr>\n",
       "    <tr>\n",
       "      <th>5</th>\n",
       "      <td>Deadlock</td>\n",
       "      <td>Sentinel</td>\n",
       "      <td>[[  0   0   0 ...   0   0   0]\\n [  0   0   0 ...</td>\n",
       "    </tr>\n",
       "    <tr>\n",
       "      <th>6</th>\n",
       "      <td>Fade</td>\n",
       "      <td>Initiator</td>\n",
       "      <td>[[  0   0   0 ...   0   0   0]\\n [  0   0   0 ...</td>\n",
       "    </tr>\n",
       "    <tr>\n",
       "      <th>7</th>\n",
       "      <td>Gekko</td>\n",
       "      <td>Initiator</td>\n",
       "      <td>[[ 0  0  0 ...  0  0  0]\\n [ 0  0  0 ...  0  0...</td>\n",
       "    </tr>\n",
       "    <tr>\n",
       "      <th>8</th>\n",
       "      <td>Harbor</td>\n",
       "      <td>Controller</td>\n",
       "      <td>[[  0   0   0 ...   0   0   0]\\n [  0   0   0 ...</td>\n",
       "    </tr>\n",
       "    <tr>\n",
       "      <th>9</th>\n",
       "      <td>Jett</td>\n",
       "      <td>Duelist</td>\n",
       "      <td>[[231 227 229 ...   0   0   0]\\n [229 228 231 ...</td>\n",
       "    </tr>\n",
       "    <tr>\n",
       "      <th>10</th>\n",
       "      <td>KAY/O</td>\n",
       "      <td>Initiator</td>\n",
       "      <td>[[  0   0   0 ...   0   0   0]\\n [  0   0   0 ...</td>\n",
       "    </tr>\n",
       "    <tr>\n",
       "      <th>11</th>\n",
       "      <td>Killjoy</td>\n",
       "      <td>Sentinel</td>\n",
       "      <td>[[  0   0   0 ...   0   0   0]\\n [  0   0   0 ...</td>\n",
       "    </tr>\n",
       "    <tr>\n",
       "      <th>12</th>\n",
       "      <td>Neon</td>\n",
       "      <td>Duelist</td>\n",
       "      <td>[[ 51  53  53 ...   0   0   0]\\n [ 52  53  55 ...</td>\n",
       "    </tr>\n",
       "    <tr>\n",
       "      <th>13</th>\n",
       "      <td>Omen</td>\n",
       "      <td>Controller</td>\n",
       "      <td>[[  0   0   0 ...   0   0   0]\\n [  0   0   0 ...</td>\n",
       "    </tr>\n",
       "    <tr>\n",
       "      <th>14</th>\n",
       "      <td>Phoenix</td>\n",
       "      <td>Duelist</td>\n",
       "      <td>[[  0   0   0 ...   0   0   0]\\n [  0   0   0 ...</td>\n",
       "    </tr>\n",
       "    <tr>\n",
       "      <th>15</th>\n",
       "      <td>Raze</td>\n",
       "      <td>Duelist</td>\n",
       "      <td>[[  0   0   0 ...   0   0   0]\\n [  0   0   0 ...</td>\n",
       "    </tr>\n",
       "    <tr>\n",
       "      <th>16</th>\n",
       "      <td>Reyna</td>\n",
       "      <td>Duelist</td>\n",
       "      <td>[[  0   0   0 ...   0   0   0]\\n [  0   0   0 ...</td>\n",
       "    </tr>\n",
       "    <tr>\n",
       "      <th>17</th>\n",
       "      <td>Sage</td>\n",
       "      <td>Sentinel</td>\n",
       "      <td>[[ 0  0  0 ...  0  0  0]\\n [ 0  0  0 ...  0  0...</td>\n",
       "    </tr>\n",
       "    <tr>\n",
       "      <th>18</th>\n",
       "      <td>Skye</td>\n",
       "      <td>Initiator</td>\n",
       "      <td>[[ 0  0  0 ...  0  0  0]\\n [ 0  0  0 ...  0  0...</td>\n",
       "    </tr>\n",
       "    <tr>\n",
       "      <th>19</th>\n",
       "      <td>Sova</td>\n",
       "      <td>Initiator</td>\n",
       "      <td>[[  0   0   0 ...   0   0   0]\\n [  0   0   0 ...</td>\n",
       "    </tr>\n",
       "    <tr>\n",
       "      <th>20</th>\n",
       "      <td>Viper</td>\n",
       "      <td>Controller</td>\n",
       "      <td>[[ 0  0  0 ...  0  0  0]\\n [ 0  0  0 ...  0  0...</td>\n",
       "    </tr>\n",
       "    <tr>\n",
       "      <th>21</th>\n",
       "      <td>Yoru</td>\n",
       "      <td>Duelist</td>\n",
       "      <td>[[ 0  0  0 ...  0  0  0]\\n [ 0  0  0 ...  0  0...</td>\n",
       "    </tr>\n",
       "  </tbody>\n",
       "</table>\n",
       "</div>"
      ],
      "text/plain": [
       "        names       roles                                            sprites\n",
       "0       Astra  Controller  [[  0   0   0 ... 106 107 107]\\n [  0   0   0 ...\n",
       "1      Breach   Initiator  [[  0   0   0 ...   0   0   0]\\n [  0   0   0 ...\n",
       "2   Brimstone  Controller  [[ 0  0  0 ...  0  0  0]\\n [ 0  0  0 ...  0  0...\n",
       "3     Chamber    Sentinel  [[0 0 0 ... 0 0 0]\\n [0 0 0 ... 0 0 0]\\n [0 0 ...\n",
       "4      Cypher    Sentinel  [[  0   0   0 ...   0   0   0]\\n [  0   0   0 ...\n",
       "5    Deadlock    Sentinel  [[  0   0   0 ...   0   0   0]\\n [  0   0   0 ...\n",
       "6        Fade   Initiator  [[  0   0   0 ...   0   0   0]\\n [  0   0   0 ...\n",
       "7       Gekko   Initiator  [[ 0  0  0 ...  0  0  0]\\n [ 0  0  0 ...  0  0...\n",
       "8      Harbor  Controller  [[  0   0   0 ...   0   0   0]\\n [  0   0   0 ...\n",
       "9        Jett     Duelist  [[231 227 229 ...   0   0   0]\\n [229 228 231 ...\n",
       "10      KAY/O   Initiator  [[  0   0   0 ...   0   0   0]\\n [  0   0   0 ...\n",
       "11    Killjoy    Sentinel  [[  0   0   0 ...   0   0   0]\\n [  0   0   0 ...\n",
       "12       Neon     Duelist  [[ 51  53  53 ...   0   0   0]\\n [ 52  53  55 ...\n",
       "13       Omen  Controller  [[  0   0   0 ...   0   0   0]\\n [  0   0   0 ...\n",
       "14    Phoenix     Duelist  [[  0   0   0 ...   0   0   0]\\n [  0   0   0 ...\n",
       "15       Raze     Duelist  [[  0   0   0 ...   0   0   0]\\n [  0   0   0 ...\n",
       "16      Reyna     Duelist  [[  0   0   0 ...   0   0   0]\\n [  0   0   0 ...\n",
       "17       Sage    Sentinel  [[ 0  0  0 ...  0  0  0]\\n [ 0  0  0 ...  0  0...\n",
       "18       Skye   Initiator  [[ 0  0  0 ...  0  0  0]\\n [ 0  0  0 ...  0  0...\n",
       "19       Sova   Initiator  [[  0   0   0 ...   0   0   0]\\n [  0   0   0 ...\n",
       "20      Viper  Controller  [[ 0  0  0 ...  0  0  0]\\n [ 0  0  0 ...  0  0...\n",
       "21       Yoru     Duelist  [[ 0  0  0 ...  0  0  0]\\n [ 0  0  0 ...  0  0..."
      ]
     },
     "execution_count": 4,
     "metadata": {},
     "output_type": "execute_result"
    }
   ],
   "source": [
    "agents = pd.read_csv(r'D:\\PROJECTS\\demo-analysis-timeline\\res\\agentinfo.csv', header=0)\n",
    "agents"
   ]
  },
  {
   "cell_type": "code",
   "execution_count": null,
   "metadata": {
    "collapsed": false,
    "jupyter": {
     "outputs_hidden": false
    }
   },
   "outputs": [],
   "source": [
    "temp = cv.matchTemplate(jett, file, cv.TM_CCORR_NORMED)\n",
    "min_val, max_val, min_loc, max_loc = cv.minMaxLoc(temp)\n",
    "print(max_val)"
   ]
  },
  {
   "cell_type": "code",
   "execution_count": 55,
   "metadata": {
    "ExecuteTime": {
     "end_time": "2023-08-13T06:44:39.508813800Z",
     "start_time": "2023-08-13T06:44:39.296281400Z"
    },
    "collapsed": false,
    "jupyter": {
     "outputs_hidden": false
    }
   },
   "outputs": [
    {
     "data": {
      "text/plain": [
       "<matplotlib.image.AxesImage at 0x1cf5533eb10>"
      ]
     },
     "execution_count": 55,
     "metadata": {},
     "output_type": "execute_result"
    },
    {
     "data": {
      "image/png": "[encoded data removed]",
      "text/plain": [
       "<Figure size 1000x1500 with 1 Axes>"
      ]
     },
     "metadata": {},
     "output_type": "display_data"
    }
   ],
   "source": [
    "plt.figure(figsize=(10,15))\n",
    "plt.imshow(tl)"
   ]
  },
  {
   "cell_type": "code",
   "execution_count": null,
   "metadata": {
    "collapsed": false,
    "jupyter": {
     "outputs_hidden": false
    }
   },
   "outputs": [],
   "source": [
    "reader = easyocr.Reader(['en'])\n",
    "res = reader.readtext(file)\n",
    "print(res)\n",
    "for (bbox, text, prob) in res:\n",
    "\n",
    "  (tl, tr, br, bl) = bbox\n",
    "  tl = (int(tl[0]), int(tl[1]))\n",
    "  tr = (int(tr[0]), int(tr[1]))\n",
    "  br = (int(br[0]), int(br[1]))\n",
    "  bl = (int(bl[0]), int(bl[1]))\n",
    "  cv.rectangle(file, tl, br, (0, 255, 0), 2)"
   ]
  },
  {
   "cell_type": "code",
   "execution_count": 54,
   "metadata": {
    "ExecuteTime": {
     "end_time": "2023-08-13T06:44:35.171303200Z",
     "start_time": "2023-08-13T06:44:35.121202Z"
    },
    "collapsed": false,
    "jupyter": {
     "outputs_hidden": false
    }
   },
   "outputs": [
    {
     "name": "stdout",
     "output_type": "stream",
     "text": [
      "['astra.png', 'breach.png', 'brim.png', 'chamber.png', 'cypher.png', 'deadlock.png', 'fade.png', 'ge.png', 'harbour.png', 'jett.png', 'kayo.png', 'kj.png', 'neon.png', 'omen.png', 'phx.png', 'raze.png', 'reyna.png', 'sage.png', 'skye.png', 'sova.png', 'viper.png', 'yoru.png']\n",
      "[-0.048235442489385605, 0.1634083390235901, 0.2066880762577057, 0.20943792164325714, 0.1790895015001297, 0.36951693892478943, -0.11298955231904984, 0.46594467759132385, -0.07715493440628052, 0.6159927845001221, 0.09506918489933014, -0.038047872483730316, -0.12104400247335434, 0.08913063257932663, -0.23919029533863068, 0.2773700952529907, 0.17997799813747406, 0.1470647156238556, 0.15167555212974548, 0.1160290539264679, 0.0919586569070816, 0.17886590957641602]\n",
      "9 HI 0.6159927845001221\n"
     ]
    }
   ],
   "source": [
    "file = cv.imread(r'D:\\PROJECTS\\demo-analysis-timeline\\res\\first.png', 0)\n",
    "tl = file[506:539,1232:1265]\n",
    "\n",
    "values = []\n",
    "sprite_path = r'D:\\PROJECTS\\demo-analysis-timeline\\res\\sprites'\n",
    "dir_list = os.listdir(sprite_path)\n",
    "print(dir_list)\n",
    "sprite_list = []\n",
    "for i,file in enumerate(dir_list):\n",
    "  file = os.path.join(sprite_path,file)\n",
    "  img = cv.imread(file,0)\n",
    "  sprite_list.append(img)\n",
    "\n",
    "for agent in sprite_list:\n",
    "    agent = cv.resize(agent,(0, 0),fx=0.39, fy=0.39, interpolation = cv.INTER_AREA)\n",
    "    result = cv.matchTemplate(tl, agent, cv.TM_CCOEFF_NORMED)\n",
    "    min_val, max_val, min_loc, max_loc = cv.minMaxLoc(result)\n",
    "    values.append(max_val)\n",
    "\n",
    "print(values)\n",
    "print(values.index(max(values)),\"HI\",max(values))\n",
    "# print(agent_list)\n",
    "# agents = [cv.imread(agent,0) for agent in agent_list]\n",
    "\n"
   ]
  },
  {
   "cell_type": "code",
   "execution_count": null,
   "metadata": {
    "collapsed": false,
    "jupyter": {
     "outputs_hidden": false
    }
   },
   "outputs": [],
   "source": [
    "# agents.sort_values(by='names',axis=0,inplace=True)\n",
    "# agents.reset_index(inplace=True,drop=True)\n",
    "# agents\n",
    "# agents.to_csv(r'D:\\PROJECTS\\demo-analysis-timeline\\res\\agentinfo.csv')"
   ]
  },
  {
   "cell_type": "code",
   "execution_count": null,
   "metadata": {
    "collapsed": false,
    "jupyter": {
     "outputs_hidden": false
    }
   },
   "outputs": [],
   "source": [
    "# import tkinter as tk\n",
    "# from tkinter import *\n",
    "# from tkinter import Label, font\n",
    "#\n",
    "# win = tk.Tk()\n",
    "# fonts=list(font.families())\n",
    "# rowcount = 0\n",
    "# columncount =0\n",
    "#\n",
    "# for i in fonts:\n",
    "#     if rowcount % 30 == 0:\n",
    "#         columncount+=1\n",
    "#         rowcount = 0\n",
    "#     Label(win,text = i, font =(i,10,'bold')).grid(row=rowcount, column=columncount)\n",
    "#     rowcount+=1\n",
    "#\n",
    "# win.mainloop()"
   ]
  },
  {
   "cell_type": "code",
   "execution_count": null,
   "metadata": {
    "collapsed": false,
    "jupyter": {
     "outputs_hidden": false
    }
   },
   "outputs": [],
   "source": [
    "# /# file = cv.bitwise_not(file)\n",
    "# file = cv.cvtColor(file, cv.COLOR_BGR2GRAY)\n",
    "# ret, file = cv.threshold(file, 150,30, 0)\n",
    "# plt.figure(figsize=(10,15))\n",
    "# plt.imshow(file)"
   ]
  },
  {
   "cell_type": "code",
   "execution_count": null,
   "metadata": {
    "collapsed": false,
    "jupyter": {
     "outputs_hidden": false
    }
   },
   "outputs": [],
   "source": [
    "agents"
   ]
  },
  {
   "cell_type": "code",
   "execution_count": 111,
   "metadata": {
    "ExecuteTime": {
     "end_time": "2023-08-11T17:15:07.481843200Z",
     "start_time": "2023-08-11T17:15:07.463588700Z"
    },
    "collapsed": false,
    "jupyter": {
     "outputs_hidden": false
    }
   },
   "outputs": [
    {
     "name": "stdout",
     "output_type": "stream",
     "text": [
      "22\n"
     ]
    },
    {
     "data": {
      "text/plain": [
       "names      object\n",
       "roles      object\n",
       "sprites    object\n",
       "dtype: object"
      ]
     },
     "execution_count": 111,
     "metadata": {},
     "output_type": "execute_result"
    }
   ],
   "source": [
    "agents = pd.read_csv(r'D:\\PROJECTS\\demo-analysis-timeline\\res\\agentinfo.csv', header=0)\n",
    "sprite_path = r'D:\\PROJECTS\\demo-analysis-timeline\\res\\sprites'\n",
    "dir_list = os.listdir(sprite_path)\n",
    "print(len(dir_list))\n",
    "sprite_list = []\n",
    "for i,file in enumerate(dir_list):\n",
    "  file = os.path.join(sprite_path,file)\n",
    "  img = cv.imread(file,0)\n",
    "  sprite_list.append(img)\n",
    "\n",
    "\n",
    "for i, sprite in enumerate(sprite_list):\n",
    "    agents.iloc[i][2] = sprite\n",
    "\n",
    "test = agents['sprites']\n",
    "type(test[0])\n",
    "\n",
    "\n",
    "agents.infer_objects().dtypes\n",
    "#\n",
    "# agents.to_csv(r'D:\\PROJECTS\\demo-analysis-timeline\\res\\agentinfond.csv')"
   ]
  },
  {
   "cell_type": "code",
   "execution_count": 12,
   "metadata": {
    "collapsed": false,
    "jupyter": {
     "outputs_hidden": false
    }
   },
   "outputs": [
    {
     "name": "stderr",
     "output_type": "stream",
     "text": [
      "Neither CUDA nor MPS are available - defaulting to CPU. Note: This module is much faster with a GPU.\n"
     ]
    },
    {
     "data": {
      "image/png": "[encoded data removed]",
      "text/plain": [
       "<Figure size 640x480 with 1 Axes>"
      ]
     },
     "metadata": {},
     "output_type": "display_data"
    }
   ],
   "source": [
    "import cv2 as cv, easyocr, tkinter, numpy as np, matplotlib.pyplot as plt\n",
    "\n",
    "reader = easyocr.Reader(['en'])\n",
    "\n",
    "ogfile = cv.imread('../res/frame.png')\n",
    "file = ogfile[70:170,700:1150]\n",
    "gray = cv.cvtColor(file, cv.COLOR_BGR2GRAY)\n",
    "plt.imshow(gray)\n",
    "plt.show()\n",
    "# print(reader.readtext(gray,detail=0))\n",
    "\n",
    "\n",
    "\n",
    "\n"
   ]
  },
  {
   "cell_type": "code",
   "execution_count": null,
   "metadata": {},
   "outputs": [],
   "source": []
  }
 ],
 "metadata": {
  "kernelspec": {
   "display_name": "Python 3 (ipykernel)",
   "language": "python",
   "name": "python3"
  },
  "language_info": {
   "codemirror_mode": {
    "name": "ipython",
    "version": 3
   },
   "file_extension": ".py",
   "mimetype": "text/x-python",
   "name": "python",
   "nbconvert_exporter": "python",
   "pygments_lexer": "ipython3",
   "version": "3.11.1"
  }
 },
 "nbformat": 4,
 "nbformat_minor": 4
}
