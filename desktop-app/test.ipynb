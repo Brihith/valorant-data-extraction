{
 "cells": [
  {
   "cell_type": "code",
   "execution_count": 12,
   "outputs": [],
   "source": [
    "import cv2 as cv, easyocr"
   ],
   "metadata": {
    "collapsed": false,
    "ExecuteTime": {
     "end_time": "2023-07-30T12:47:08.478189200Z",
     "start_time": "2023-07-30T12:47:08.473691400Z"
    }
   }
  },
  {
   "cell_type": "code",
   "execution_count": null,
   "outputs": [],
   "source": [
    "!pip install opencv-python"
   ],
   "metadata": {
    "collapsed": false,
    "is_executing": true
   }
  },
  {
   "cell_type": "code",
   "execution_count": null,
   "outputs": [],
   "source": [
    "file = cv.imread('frame.png')"
   ],
   "metadata": {
    "collapsed": false,
    "is_executing": true
   }
  },
  {
   "cell_type": "code",
   "execution_count": null,
   "outputs": [],
   "source": [
    "cv.imshow('test',file[:,:])"
   ],
   "metadata": {
    "collapsed": false,
    "is_executing": true
   }
  },
  {
   "cell_type": "code",
   "execution_count": null,
   "outputs": [],
   "source": [
    "import cv2 as cv, easyocr, tkinter, numpy as np, matplotlib.pyplot as plt\n",
    "\n",
    "reader = easyocr.Reader(['en'])\n",
    "\n",
    "# def preprocessing(img):\n",
    "#     \"\"\" Perfrom all the image preprocessing here. Not sure how to handle different images needing different preprocessing\n",
    "#     but lets see.\"\"\"\n",
    "#     return finalimg\n",
    "#\n",
    "# def run_ocr(img):\n",
    "#     result = reader.readtext(img, detail=0)\n",
    "#     return result\n",
    "\n",
    "\n",
    "ogfile = cv.imread('../res/frame.png')\n",
    "# cv.imshow('test',file[50:200,50:200])\n",
    "file = ogfile[50:200,50:200]\n",
    "gray = cv.cvtColor(file, cv.COLOR_BGR2GRAY)\n",
    "plt.imshow(gray)\n",
    "plt.show()\n",
    "print(reader.readtext(gray,detail=0))\n",
    "\n",
    "\n",
    "\n",
    "cv.waitKey(0)\n",
    "\n",
    "\n"
   ],
   "metadata": {
    "collapsed": false
   }
  },
  {
   "cell_type": "code",
   "execution_count": null,
   "outputs": [],
   "source": [
    "# import tkinter as tk\n",
    "# from tkinter import *\n",
    "# from tkinter import Label, font\n",
    "#\n",
    "# win = tk.Tk()\n",
    "# fonts=list(font.families())\n",
    "# rowcount = 0\n",
    "# columncount =0\n",
    "#\n",
    "# for i in fonts:\n",
    "#     if rowcount % 30 == 0:\n",
    "#         columncount+=1\n",
    "#         rowcount = 0\n",
    "#     Label(win,text = i, font =(i,10,'bold')).grid(row=rowcount, column=columncount)\n",
    "#     rowcount+=1\n",
    "#\n",
    "# win.mainloop()"
   ],
   "metadata": {
    "collapsed": false
   }
  }
 ],
 "metadata": {
  "kernelspec": {
   "display_name": "Python 3",
   "language": "python",
   "name": "python3"
  },
  "language_info": {
   "codemirror_mode": {
    "name": "ipython",
    "version": 2
   },
   "file_extension": ".py",
   "mimetype": "text/x-python",
   "name": "python",
   "nbconvert_exporter": "python",
   "pygments_lexer": "ipython2",
   "version": "2.7.6"
  }
 },
 "nbformat": 4,
 "nbformat_minor": 0
}
