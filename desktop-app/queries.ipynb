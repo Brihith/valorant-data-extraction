{
 "cells": [
  {
   "cell_type": "code",
   "execution_count": null,
   "id": "initial_id",
   "metadata": {
    "collapsed": true
   },
   "outputs": [],
   "source": [
    "import pandas as pd, matplotlib.pyplot as plt, numpy as np"
   ]
  },
  {
   "cell_type": "code",
   "execution_count": 48,
   "outputs": [],
   "source": [
    "df = pd.read_csv(r'D:\\PROJECTS\\demo-analysis-timeline\\res\\scrims\\scrim_14_08_2023_time_15_05.csv', sep='\\t', index_col=0)"
   ],
   "metadata": {
    "collapsed": false,
    "ExecuteTime": {
     "end_time": "2023-08-14T09:36:01.893048300Z",
     "start_time": "2023-08-14T09:36:01.885824200Z"
    }
   },
   "id": "67d2520bfef12413"
  },
  {
   "cell_type": "code",
   "execution_count": 54,
   "outputs": [
    {
     "data": {
      "text/plain": "   first_kill  time first_death  planted  defuse round_win\n1       Reyna  0.21        Jett     True    True      loss\n2        Jett  0:03       Reyna     True   False       win\n3      Cypher  0:13        Neon     True   False       win\n4        Jett  0:26        Sova     True    True      loss\n5        Omen  0:10        Raze    False   False      loss\n6        Jett  0:03     Phoenix    False   False      loss\n7        Raze  0:03        Jett     True   False       win\n8      Cypher  0:10        Jett     True   False       win\n9     Phoenix  0.22        Sova     True   False       win\n10       Jett  0:04        Jett     True   False       win\n11       Omen  0:10     Phoenix    False   False       win\n12       Jett  0:04        Neon    False   False      loss\n13      Reyna  0:07        Raze     True   False      loss\n14      Reyna  0.41        Raze     True   False      loss\n15      Reyna  0:08       Reyna    False   False       win\n16      Reyna  0:06       Reyna    False   False       win\n17       Jett  0:04       Reyna     True   False      loss\n18    Phoenix  0:10      Cypher    False   False       win\n19       Jett  0:05        Jett     True   False      loss\n20       Raze  0:19        Omen    False   False       win\n21       Jett  0:05       Reyna     True    True       win\n22       Raze  0:11        Omen    False   False       win",
      "text/html": "<div>\n<style scoped>\n    .dataframe tbody tr th:only-of-type {\n        vertical-align: middle;\n    }\n\n    .dataframe tbody tr th {\n        vertical-align: top;\n    }\n\n    .dataframe thead th {\n        text-align: right;\n    }\n</style>\n<table border=\"1\" class=\"dataframe\">\n  <thead>\n    <tr style=\"text-align: right;\">\n      <th></th>\n      <th>first_kill</th>\n      <th>time</th>\n      <th>first_death</th>\n      <th>planted</th>\n      <th>defuse</th>\n      <th>round_win</th>\n    </tr>\n  </thead>\n  <tbody>\n    <tr>\n      <th>1</th>\n      <td>Reyna</td>\n      <td>0.21</td>\n      <td>Jett</td>\n      <td>True</td>\n      <td>True</td>\n      <td>loss</td>\n    </tr>\n    <tr>\n      <th>2</th>\n      <td>Jett</td>\n      <td>0:03</td>\n      <td>Reyna</td>\n      <td>True</td>\n      <td>False</td>\n      <td>win</td>\n    </tr>\n    <tr>\n      <th>3</th>\n      <td>Cypher</td>\n      <td>0:13</td>\n      <td>Neon</td>\n      <td>True</td>\n      <td>False</td>\n      <td>win</td>\n    </tr>\n    <tr>\n      <th>4</th>\n      <td>Jett</td>\n      <td>0:26</td>\n      <td>Sova</td>\n      <td>True</td>\n      <td>True</td>\n      <td>loss</td>\n    </tr>\n    <tr>\n      <th>5</th>\n      <td>Omen</td>\n      <td>0:10</td>\n      <td>Raze</td>\n      <td>False</td>\n      <td>False</td>\n      <td>loss</td>\n    </tr>\n    <tr>\n      <th>6</th>\n      <td>Jett</td>\n      <td>0:03</td>\n      <td>Phoenix</td>\n      <td>False</td>\n      <td>False</td>\n      <td>loss</td>\n    </tr>\n    <tr>\n      <th>7</th>\n      <td>Raze</td>\n      <td>0:03</td>\n      <td>Jett</td>\n      <td>True</td>\n      <td>False</td>\n      <td>win</td>\n    </tr>\n    <tr>\n      <th>8</th>\n      <td>Cypher</td>\n      <td>0:10</td>\n      <td>Jett</td>\n      <td>True</td>\n      <td>False</td>\n      <td>win</td>\n    </tr>\n    <tr>\n      <th>9</th>\n      <td>Phoenix</td>\n      <td>0.22</td>\n      <td>Sova</td>\n      <td>True</td>\n      <td>False</td>\n      <td>win</td>\n    </tr>\n    <tr>\n      <th>10</th>\n      <td>Jett</td>\n      <td>0:04</td>\n      <td>Jett</td>\n      <td>True</td>\n      <td>False</td>\n      <td>win</td>\n    </tr>\n    <tr>\n      <th>11</th>\n      <td>Omen</td>\n      <td>0:10</td>\n      <td>Phoenix</td>\n      <td>False</td>\n      <td>False</td>\n      <td>win</td>\n    </tr>\n    <tr>\n      <th>12</th>\n      <td>Jett</td>\n      <td>0:04</td>\n      <td>Neon</td>\n      <td>False</td>\n      <td>False</td>\n      <td>loss</td>\n    </tr>\n    <tr>\n      <th>13</th>\n      <td>Reyna</td>\n      <td>0:07</td>\n      <td>Raze</td>\n      <td>True</td>\n      <td>False</td>\n      <td>loss</td>\n    </tr>\n    <tr>\n      <th>14</th>\n      <td>Reyna</td>\n      <td>0.41</td>\n      <td>Raze</td>\n      <td>True</td>\n      <td>False</td>\n      <td>loss</td>\n    </tr>\n    <tr>\n      <th>15</th>\n      <td>Reyna</td>\n      <td>0:08</td>\n      <td>Reyna</td>\n      <td>False</td>\n      <td>False</td>\n      <td>win</td>\n    </tr>\n    <tr>\n      <th>16</th>\n      <td>Reyna</td>\n      <td>0:06</td>\n      <td>Reyna</td>\n      <td>False</td>\n      <td>False</td>\n      <td>win</td>\n    </tr>\n    <tr>\n      <th>17</th>\n      <td>Jett</td>\n      <td>0:04</td>\n      <td>Reyna</td>\n      <td>True</td>\n      <td>False</td>\n      <td>loss</td>\n    </tr>\n    <tr>\n      <th>18</th>\n      <td>Phoenix</td>\n      <td>0:10</td>\n      <td>Cypher</td>\n      <td>False</td>\n      <td>False</td>\n      <td>win</td>\n    </tr>\n    <tr>\n      <th>19</th>\n      <td>Jett</td>\n      <td>0:05</td>\n      <td>Jett</td>\n      <td>True</td>\n      <td>False</td>\n      <td>loss</td>\n    </tr>\n    <tr>\n      <th>20</th>\n      <td>Raze</td>\n      <td>0:19</td>\n      <td>Omen</td>\n      <td>False</td>\n      <td>False</td>\n      <td>win</td>\n    </tr>\n    <tr>\n      <th>21</th>\n      <td>Jett</td>\n      <td>0:05</td>\n      <td>Reyna</td>\n      <td>True</td>\n      <td>True</td>\n      <td>win</td>\n    </tr>\n    <tr>\n      <th>22</th>\n      <td>Raze</td>\n      <td>0:11</td>\n      <td>Omen</td>\n      <td>False</td>\n      <td>False</td>\n      <td>win</td>\n    </tr>\n  </tbody>\n</table>\n</div>"
     },
     "execution_count": 54,
     "metadata": {},
     "output_type": "execute_result"
    }
   ],
   "source": [
    "df"
   ],
   "metadata": {
    "collapsed": false,
    "ExecuteTime": {
     "end_time": "2023-08-14T09:38:55.996034400Z",
     "start_time": "2023-08-14T09:38:55.988545700Z"
    }
   },
   "id": "5843abcff473c7c7"
  },
  {
   "cell_type": "code",
   "execution_count": 50,
   "outputs": [
    {
     "data": {
      "text/plain": "   first_kill  time first_death  planted  defuse round_win\n2        Jett  0:03       Reyna     True   False       win\n3      Cypher  0:13        Neon     True   False       win\n7        Raze  0:03        Jett     True   False       win\n8      Cypher  0:10        Jett     True   False       win\n9     Phoenix  0.22        Sova     True   False       win\n10       Jett  0:04        Jett     True   False       win\n21       Jett  0:05       Reyna     True    True       win",
      "text/html": "<div>\n<style scoped>\n    .dataframe tbody tr th:only-of-type {\n        vertical-align: middle;\n    }\n\n    .dataframe tbody tr th {\n        vertical-align: top;\n    }\n\n    .dataframe thead th {\n        text-align: right;\n    }\n</style>\n<table border=\"1\" class=\"dataframe\">\n  <thead>\n    <tr style=\"text-align: right;\">\n      <th></th>\n      <th>first_kill</th>\n      <th>time</th>\n      <th>first_death</th>\n      <th>planted</th>\n      <th>defuse</th>\n      <th>round_win</th>\n    </tr>\n  </thead>\n  <tbody>\n    <tr>\n      <th>2</th>\n      <td>Jett</td>\n      <td>0:03</td>\n      <td>Reyna</td>\n      <td>True</td>\n      <td>False</td>\n      <td>win</td>\n    </tr>\n    <tr>\n      <th>3</th>\n      <td>Cypher</td>\n      <td>0:13</td>\n      <td>Neon</td>\n      <td>True</td>\n      <td>False</td>\n      <td>win</td>\n    </tr>\n    <tr>\n      <th>7</th>\n      <td>Raze</td>\n      <td>0:03</td>\n      <td>Jett</td>\n      <td>True</td>\n      <td>False</td>\n      <td>win</td>\n    </tr>\n    <tr>\n      <th>8</th>\n      <td>Cypher</td>\n      <td>0:10</td>\n      <td>Jett</td>\n      <td>True</td>\n      <td>False</td>\n      <td>win</td>\n    </tr>\n    <tr>\n      <th>9</th>\n      <td>Phoenix</td>\n      <td>0.22</td>\n      <td>Sova</td>\n      <td>True</td>\n      <td>False</td>\n      <td>win</td>\n    </tr>\n    <tr>\n      <th>10</th>\n      <td>Jett</td>\n      <td>0:04</td>\n      <td>Jett</td>\n      <td>True</td>\n      <td>False</td>\n      <td>win</td>\n    </tr>\n    <tr>\n      <th>21</th>\n      <td>Jett</td>\n      <td>0:05</td>\n      <td>Reyna</td>\n      <td>True</td>\n      <td>True</td>\n      <td>win</td>\n    </tr>\n  </tbody>\n</table>\n</div>"
     },
     "execution_count": 50,
     "metadata": {},
     "output_type": "execute_result"
    }
   ],
   "source": [
    "df.query('planted == True & round_win == \"win\"')"
   ],
   "metadata": {
    "collapsed": false,
    "ExecuteTime": {
     "end_time": "2023-08-14T09:36:32.984487500Z",
     "start_time": "2023-08-14T09:36:32.969941200Z"
    }
   },
   "id": "f17321f65cce931b"
  },
  {
   "cell_type": "code",
   "execution_count": 52,
   "outputs": [
    {
     "data": {
      "text/plain": "   first_kill  time first_death  planted  defuse round_win\n1       Reyna  0.21        Jett     True    True      loss\n7        Raze  0:03        Jett     True   False       win\n8      Cypher  0:10        Jett     True   False       win\n10       Jett  0:04        Jett     True   False       win\n19       Jett  0:05        Jett     True   False      loss",
      "text/html": "<div>\n<style scoped>\n    .dataframe tbody tr th:only-of-type {\n        vertical-align: middle;\n    }\n\n    .dataframe tbody tr th {\n        vertical-align: top;\n    }\n\n    .dataframe thead th {\n        text-align: right;\n    }\n</style>\n<table border=\"1\" class=\"dataframe\">\n  <thead>\n    <tr style=\"text-align: right;\">\n      <th></th>\n      <th>first_kill</th>\n      <th>time</th>\n      <th>first_death</th>\n      <th>planted</th>\n      <th>defuse</th>\n      <th>round_win</th>\n    </tr>\n  </thead>\n  <tbody>\n    <tr>\n      <th>1</th>\n      <td>Reyna</td>\n      <td>0.21</td>\n      <td>Jett</td>\n      <td>True</td>\n      <td>True</td>\n      <td>loss</td>\n    </tr>\n    <tr>\n      <th>7</th>\n      <td>Raze</td>\n      <td>0:03</td>\n      <td>Jett</td>\n      <td>True</td>\n      <td>False</td>\n      <td>win</td>\n    </tr>\n    <tr>\n      <th>8</th>\n      <td>Cypher</td>\n      <td>0:10</td>\n      <td>Jett</td>\n      <td>True</td>\n      <td>False</td>\n      <td>win</td>\n    </tr>\n    <tr>\n      <th>10</th>\n      <td>Jett</td>\n      <td>0:04</td>\n      <td>Jett</td>\n      <td>True</td>\n      <td>False</td>\n      <td>win</td>\n    </tr>\n    <tr>\n      <th>19</th>\n      <td>Jett</td>\n      <td>0:05</td>\n      <td>Jett</td>\n      <td>True</td>\n      <td>False</td>\n      <td>loss</td>\n    </tr>\n  </tbody>\n</table>\n</div>"
     },
     "execution_count": 52,
     "metadata": {},
     "output_type": "execute_result"
    }
   ],
   "source": [
    "df.query('first_death == \"Jett\"')"
   ],
   "metadata": {
    "collapsed": false,
    "ExecuteTime": {
     "end_time": "2023-08-14T09:37:05.069247100Z",
     "start_time": "2023-08-14T09:37:05.051295200Z"
    }
   },
   "id": "4640e753f9ec4658"
  },
  {
   "cell_type": "code",
   "execution_count": 53,
   "outputs": [
    {
     "data": {
      "text/plain": "   first_kill  time first_death  planted  defuse round_win\n1       Reyna  0.21        Jett     True    True      loss\n2        Jett  0:03       Reyna     True   False       win\n3      Cypher  0:13        Neon     True   False       win\n4        Jett  0:26        Sova     True    True      loss\n5        Omen  0:10        Raze    False   False      loss\n6        Jett  0:03     Phoenix    False   False      loss\n7        Raze  0:03        Jett     True   False       win\n8      Cypher  0:10        Jett     True   False       win\n9     Phoenix  0.22        Sova     True   False       win\n10       Jett  0:04        Jett     True   False       win\n11       Omen  0:10     Phoenix    False   False       win\n12       Jett  0:04        Neon    False   False      loss\n13      Reyna  0:07        Raze     True   False      loss\n14      Reyna  0.41        Raze     True   False      loss\n15      Reyna  0:08       Reyna    False   False       win\n16      Reyna  0:06       Reyna    False   False       win\n17       Jett  0:04       Reyna     True   False      loss\n18    Phoenix  0:10      Cypher    False   False       win\n19       Jett  0:05        Jett     True   False      loss\n20       Raze  0:19        Omen    False   False       win\n21       Jett  0:05       Reyna     True    True       win\n22       Raze  0:11        Omen    False   False       win",
      "text/html": "<div>\n<style scoped>\n    .dataframe tbody tr th:only-of-type {\n        vertical-align: middle;\n    }\n\n    .dataframe tbody tr th {\n        vertical-align: top;\n    }\n\n    .dataframe thead th {\n        text-align: right;\n    }\n</style>\n<table border=\"1\" class=\"dataframe\">\n  <thead>\n    <tr style=\"text-align: right;\">\n      <th></th>\n      <th>first_kill</th>\n      <th>time</th>\n      <th>first_death</th>\n      <th>planted</th>\n      <th>defuse</th>\n      <th>round_win</th>\n    </tr>\n  </thead>\n  <tbody>\n    <tr>\n      <th>1</th>\n      <td>Reyna</td>\n      <td>0.21</td>\n      <td>Jett</td>\n      <td>True</td>\n      <td>True</td>\n      <td>loss</td>\n    </tr>\n    <tr>\n      <th>2</th>\n      <td>Jett</td>\n      <td>0:03</td>\n      <td>Reyna</td>\n      <td>True</td>\n      <td>False</td>\n      <td>win</td>\n    </tr>\n    <tr>\n      <th>3</th>\n      <td>Cypher</td>\n      <td>0:13</td>\n      <td>Neon</td>\n      <td>True</td>\n      <td>False</td>\n      <td>win</td>\n    </tr>\n    <tr>\n      <th>4</th>\n      <td>Jett</td>\n      <td>0:26</td>\n      <td>Sova</td>\n      <td>True</td>\n      <td>True</td>\n      <td>loss</td>\n    </tr>\n    <tr>\n      <th>5</th>\n      <td>Omen</td>\n      <td>0:10</td>\n      <td>Raze</td>\n      <td>False</td>\n      <td>False</td>\n      <td>loss</td>\n    </tr>\n    <tr>\n      <th>6</th>\n      <td>Jett</td>\n      <td>0:03</td>\n      <td>Phoenix</td>\n      <td>False</td>\n      <td>False</td>\n      <td>loss</td>\n    </tr>\n    <tr>\n      <th>7</th>\n      <td>Raze</td>\n      <td>0:03</td>\n      <td>Jett</td>\n      <td>True</td>\n      <td>False</td>\n      <td>win</td>\n    </tr>\n    <tr>\n      <th>8</th>\n      <td>Cypher</td>\n      <td>0:10</td>\n      <td>Jett</td>\n      <td>True</td>\n      <td>False</td>\n      <td>win</td>\n    </tr>\n    <tr>\n      <th>9</th>\n      <td>Phoenix</td>\n      <td>0.22</td>\n      <td>Sova</td>\n      <td>True</td>\n      <td>False</td>\n      <td>win</td>\n    </tr>\n    <tr>\n      <th>10</th>\n      <td>Jett</td>\n      <td>0:04</td>\n      <td>Jett</td>\n      <td>True</td>\n      <td>False</td>\n      <td>win</td>\n    </tr>\n    <tr>\n      <th>11</th>\n      <td>Omen</td>\n      <td>0:10</td>\n      <td>Phoenix</td>\n      <td>False</td>\n      <td>False</td>\n      <td>win</td>\n    </tr>\n    <tr>\n      <th>12</th>\n      <td>Jett</td>\n      <td>0:04</td>\n      <td>Neon</td>\n      <td>False</td>\n      <td>False</td>\n      <td>loss</td>\n    </tr>\n    <tr>\n      <th>13</th>\n      <td>Reyna</td>\n      <td>0:07</td>\n      <td>Raze</td>\n      <td>True</td>\n      <td>False</td>\n      <td>loss</td>\n    </tr>\n    <tr>\n      <th>14</th>\n      <td>Reyna</td>\n      <td>0.41</td>\n      <td>Raze</td>\n      <td>True</td>\n      <td>False</td>\n      <td>loss</td>\n    </tr>\n    <tr>\n      <th>15</th>\n      <td>Reyna</td>\n      <td>0:08</td>\n      <td>Reyna</td>\n      <td>False</td>\n      <td>False</td>\n      <td>win</td>\n    </tr>\n    <tr>\n      <th>16</th>\n      <td>Reyna</td>\n      <td>0:06</td>\n      <td>Reyna</td>\n      <td>False</td>\n      <td>False</td>\n      <td>win</td>\n    </tr>\n    <tr>\n      <th>17</th>\n      <td>Jett</td>\n      <td>0:04</td>\n      <td>Reyna</td>\n      <td>True</td>\n      <td>False</td>\n      <td>loss</td>\n    </tr>\n    <tr>\n      <th>18</th>\n      <td>Phoenix</td>\n      <td>0:10</td>\n      <td>Cypher</td>\n      <td>False</td>\n      <td>False</td>\n      <td>win</td>\n    </tr>\n    <tr>\n      <th>19</th>\n      <td>Jett</td>\n      <td>0:05</td>\n      <td>Jett</td>\n      <td>True</td>\n      <td>False</td>\n      <td>loss</td>\n    </tr>\n    <tr>\n      <th>20</th>\n      <td>Raze</td>\n      <td>0:19</td>\n      <td>Omen</td>\n      <td>False</td>\n      <td>False</td>\n      <td>win</td>\n    </tr>\n    <tr>\n      <th>21</th>\n      <td>Jett</td>\n      <td>0:05</td>\n      <td>Reyna</td>\n      <td>True</td>\n      <td>True</td>\n      <td>win</td>\n    </tr>\n    <tr>\n      <th>22</th>\n      <td>Raze</td>\n      <td>0:11</td>\n      <td>Omen</td>\n      <td>False</td>\n      <td>False</td>\n      <td>win</td>\n    </tr>\n  </tbody>\n</table>\n</div>"
     },
     "execution_count": 53,
     "metadata": {},
     "output_type": "execute_result"
    }
   ],
   "source": [
    "df.query('time < \"0:30\"')"
   ],
   "metadata": {
    "collapsed": false,
    "ExecuteTime": {
     "end_time": "2023-08-14T09:37:24.677708800Z",
     "start_time": "2023-08-14T09:37:24.664739900Z"
    }
   },
   "id": "2a00e90ef2b24ca1"
  },
  {
   "cell_type": "code",
   "execution_count": null,
   "outputs": [],
   "source": [],
   "metadata": {
    "collapsed": false
   },
   "id": "331da5fbd2de0749"
  }
 ],
 "metadata": {
  "kernelspec": {
   "display_name": "Python 3",
   "language": "python",
   "name": "python3"
  },
  "language_info": {
   "codemirror_mode": {
    "name": "ipython",
    "version": 2
   },
   "file_extension": ".py",
   "mimetype": "text/x-python",
   "name": "python",
   "nbconvert_exporter": "python",
   "pygments_lexer": "ipython2",
   "version": "2.7.6"
  }
 },
 "nbformat": 4,
 "nbformat_minor": 5
}
