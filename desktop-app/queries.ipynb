{
 "cells": [
  {
   "cell_type": "code",
   "execution_count": 3,
   "id": "initial_id",
   "metadata": {
    "collapsed": true,
    "ExecuteTime": {
     "end_time": "2023-08-16T15:05:12.192411700Z",
     "start_time": "2023-08-16T15:05:11.531506800Z"
    }
   },
   "outputs": [],
   "source": [
    "import pandas as pd, matplotlib.pyplot as plt, numpy as np"
   ]
  },
  {
   "cell_type": "code",
   "execution_count": 6,
   "outputs": [],
   "source": [
    "df = pd.read_csv(r'D:\\PROJECTS\\demo-analysis-timeline\\res\\scrims\\bind_16_08_2023_time_20_30.csv', sep='\\t', index_col=0)\n",
    "df1 = pd.read_csv(r'D:\\PROJECTS\\demo-analysis-timeline\\res\\scrims\\bind_16_08_2023_time_20_32.csv', sep='\\t', index_col=0)\n"
   ],
   "metadata": {
    "collapsed": false,
    "ExecuteTime": {
     "end_time": "2023-08-16T15:05:59.209074600Z",
     "start_time": "2023-08-16T15:05:59.196434Z"
    }
   },
   "id": "67d2520bfef12413"
  },
  {
   "cell_type": "code",
   "execution_count": 9,
   "outputs": [
    {
     "ename": "TypeError",
     "evalue": "DataFrame.combine() missing 1 required positional argument: 'func'",
     "output_type": "error",
     "traceback": [
      "\u001B[1;31m---------------------------------------------------------------------------\u001B[0m",
      "\u001B[1;31mTypeError\u001B[0m                                 Traceback (most recent call last)",
      "Cell \u001B[1;32mIn[9], line 1\u001B[0m\n\u001B[1;32m----> 1\u001B[0m final \u001B[38;5;241m=\u001B[39m \u001B[43mdf\u001B[49m\u001B[38;5;241;43m.\u001B[39;49m\u001B[43mcombine\u001B[49m\u001B[43m(\u001B[49m\u001B[43mdf1\u001B[49m\u001B[43m)\u001B[49m\n",
      "\u001B[1;31mTypeError\u001B[0m: DataFrame.combine() missing 1 required positional argument: 'func'"
     ]
    }
   ],
   "source": [
    "final = df.combine(df1)"
   ],
   "metadata": {
    "collapsed": false,
    "ExecuteTime": {
     "end_time": "2023-08-16T15:08:54.954648100Z",
     "start_time": "2023-08-16T15:08:54.737388100Z"
    }
   },
   "id": "5843abcff473c7c7"
  },
  {
   "cell_type": "code",
   "execution_count": 9,
   "outputs": [
    {
     "data": {
      "text/plain": "first_kill     11\ntime           11\nfirst_death    11\nplanted        11\ndefuse         11\nround_win      11\nside           11\ndtype: int64"
     },
     "execution_count": 9,
     "metadata": {},
     "output_type": "execute_result"
    }
   ],
   "source": [
    "df.query('planted == True & round_win == \"win\"').count()"
   ],
   "metadata": {
    "collapsed": false,
    "ExecuteTime": {
     "end_time": "2023-08-15T06:11:11.650908100Z",
     "start_time": "2023-08-15T06:11:11.633214300Z"
    }
   },
   "id": "f17321f65cce931b"
  },
  {
   "cell_type": "code",
   "execution_count": 17,
   "outputs": [
    {
     "data": {
      "text/plain": "   first_kill  time first_death  planted  defuse round_win     side\n1     Chamber  0:08        Jett     True   False      loss  Defense\n10    Chamber  0:06        Jett    False   False       win  Defense\n16     Cypher  0:02        Jett    False   False      loss   Attack\n20    Chamber  0:02        Jett     True   False       win   Attack",
      "text/html": "<div>\n<style scoped>\n    .dataframe tbody tr th:only-of-type {\n        vertical-align: middle;\n    }\n\n    .dataframe tbody tr th {\n        vertical-align: top;\n    }\n\n    .dataframe thead th {\n        text-align: right;\n    }\n</style>\n<table border=\"1\" class=\"dataframe\">\n  <thead>\n    <tr style=\"text-align: right;\">\n      <th></th>\n      <th>first_kill</th>\n      <th>time</th>\n      <th>first_death</th>\n      <th>planted</th>\n      <th>defuse</th>\n      <th>round_win</th>\n      <th>side</th>\n    </tr>\n  </thead>\n  <tbody>\n    <tr>\n      <th>1</th>\n      <td>Chamber</td>\n      <td>0:08</td>\n      <td>Jett</td>\n      <td>True</td>\n      <td>False</td>\n      <td>loss</td>\n      <td>Defense</td>\n    </tr>\n    <tr>\n      <th>10</th>\n      <td>Chamber</td>\n      <td>0:06</td>\n      <td>Jett</td>\n      <td>False</td>\n      <td>False</td>\n      <td>win</td>\n      <td>Defense</td>\n    </tr>\n    <tr>\n      <th>16</th>\n      <td>Cypher</td>\n      <td>0:02</td>\n      <td>Jett</td>\n      <td>False</td>\n      <td>False</td>\n      <td>loss</td>\n      <td>Attack</td>\n    </tr>\n    <tr>\n      <th>20</th>\n      <td>Chamber</td>\n      <td>0:02</td>\n      <td>Jett</td>\n      <td>True</td>\n      <td>False</td>\n      <td>win</td>\n      <td>Attack</td>\n    </tr>\n  </tbody>\n</table>\n</div>"
     },
     "execution_count": 17,
     "metadata": {},
     "output_type": "execute_result"
    }
   ],
   "source": [
    "df.query('first_death == \"Jett\"')"
   ],
   "metadata": {
    "collapsed": false,
    "ExecuteTime": {
     "end_time": "2023-08-14T15:44:11.559040700Z",
     "start_time": "2023-08-14T15:44:11.547784700Z"
    }
   },
   "id": "4640e753f9ec4658"
  },
  {
   "cell_type": "code",
   "execution_count": 18,
   "outputs": [
    {
     "data": {
      "text/plain": "   first_kill  time first_death  planted  defuse round_win     side\n1     Chamber  0:08        Jett     True   False      loss  Defense\n2        Jett  0:12     Chamber     True   False      loss  Defense\n3        Skye  0:15       Reyna     True    True       win  Defense\n4       Reyna  0:08        Neon     True    True       win  Defense\n5        Raze  0:14      Cypher     True   False      loss  Defense\n6        Neon  0:10      Cypher     True   False      loss  Defense\n7       Reyna  0.43       KAY/O     True   False      loss  Defense\n8        Jett  0:03       KAY/O     True   False      loss  Defense\n9        Jett  0:03   Brimstone    False   False       win  Defense\n10    Chamber  0:06        Jett    False   False       win  Defense\n11      Reyna  0.33       Reyna     True   False      loss  Defense\n12       Jett  0:04   Brimstone     True    True       win  Defense\n13    Phoenix  0:07       Reyna     True   False       win   Attack\n14       Jett  0:03       Reyna     True   False       win   Attack\n15       Jett  0:08       Reyna     True   False       win   Attack\n16     Cypher  0:02        Jett    False   False      loss   Attack\n17    Phoenix  0:07       KAY/O    False   False      loss   Attack\n18      Reyna  0:06      Cypher    False   False      loss   Attack\n19      Reyna  0:13     Phoenix     True   False       win   Attack\n20    Chamber  0:02        Jett     True   False       win   Attack\n21       Jett  0:05   Brimstone     True   False       win   Attack\n22  Brimstone  0:06     Phoenix     True   False       win   Attack\n23       Jett  0:08       KAY/O    False   False      loss   Attack\n24  Brimstone  0:17        Raze     True   False       win   Attack",
      "text/html": "<div>\n<style scoped>\n    .dataframe tbody tr th:only-of-type {\n        vertical-align: middle;\n    }\n\n    .dataframe tbody tr th {\n        vertical-align: top;\n    }\n\n    .dataframe thead th {\n        text-align: right;\n    }\n</style>\n<table border=\"1\" class=\"dataframe\">\n  <thead>\n    <tr style=\"text-align: right;\">\n      <th></th>\n      <th>first_kill</th>\n      <th>time</th>\n      <th>first_death</th>\n      <th>planted</th>\n      <th>defuse</th>\n      <th>round_win</th>\n      <th>side</th>\n    </tr>\n  </thead>\n  <tbody>\n    <tr>\n      <th>1</th>\n      <td>Chamber</td>\n      <td>0:08</td>\n      <td>Jett</td>\n      <td>True</td>\n      <td>False</td>\n      <td>loss</td>\n      <td>Defense</td>\n    </tr>\n    <tr>\n      <th>2</th>\n      <td>Jett</td>\n      <td>0:12</td>\n      <td>Chamber</td>\n      <td>True</td>\n      <td>False</td>\n      <td>loss</td>\n      <td>Defense</td>\n    </tr>\n    <tr>\n      <th>3</th>\n      <td>Skye</td>\n      <td>0:15</td>\n      <td>Reyna</td>\n      <td>True</td>\n      <td>True</td>\n      <td>win</td>\n      <td>Defense</td>\n    </tr>\n    <tr>\n      <th>4</th>\n      <td>Reyna</td>\n      <td>0:08</td>\n      <td>Neon</td>\n      <td>True</td>\n      <td>True</td>\n      <td>win</td>\n      <td>Defense</td>\n    </tr>\n    <tr>\n      <th>5</th>\n      <td>Raze</td>\n      <td>0:14</td>\n      <td>Cypher</td>\n      <td>True</td>\n      <td>False</td>\n      <td>loss</td>\n      <td>Defense</td>\n    </tr>\n    <tr>\n      <th>6</th>\n      <td>Neon</td>\n      <td>0:10</td>\n      <td>Cypher</td>\n      <td>True</td>\n      <td>False</td>\n      <td>loss</td>\n      <td>Defense</td>\n    </tr>\n    <tr>\n      <th>7</th>\n      <td>Reyna</td>\n      <td>0.43</td>\n      <td>KAY/O</td>\n      <td>True</td>\n      <td>False</td>\n      <td>loss</td>\n      <td>Defense</td>\n    </tr>\n    <tr>\n      <th>8</th>\n      <td>Jett</td>\n      <td>0:03</td>\n      <td>KAY/O</td>\n      <td>True</td>\n      <td>False</td>\n      <td>loss</td>\n      <td>Defense</td>\n    </tr>\n    <tr>\n      <th>9</th>\n      <td>Jett</td>\n      <td>0:03</td>\n      <td>Brimstone</td>\n      <td>False</td>\n      <td>False</td>\n      <td>win</td>\n      <td>Defense</td>\n    </tr>\n    <tr>\n      <th>10</th>\n      <td>Chamber</td>\n      <td>0:06</td>\n      <td>Jett</td>\n      <td>False</td>\n      <td>False</td>\n      <td>win</td>\n      <td>Defense</td>\n    </tr>\n    <tr>\n      <th>11</th>\n      <td>Reyna</td>\n      <td>0.33</td>\n      <td>Reyna</td>\n      <td>True</td>\n      <td>False</td>\n      <td>loss</td>\n      <td>Defense</td>\n    </tr>\n    <tr>\n      <th>12</th>\n      <td>Jett</td>\n      <td>0:04</td>\n      <td>Brimstone</td>\n      <td>True</td>\n      <td>True</td>\n      <td>win</td>\n      <td>Defense</td>\n    </tr>\n    <tr>\n      <th>13</th>\n      <td>Phoenix</td>\n      <td>0:07</td>\n      <td>Reyna</td>\n      <td>True</td>\n      <td>False</td>\n      <td>win</td>\n      <td>Attack</td>\n    </tr>\n    <tr>\n      <th>14</th>\n      <td>Jett</td>\n      <td>0:03</td>\n      <td>Reyna</td>\n      <td>True</td>\n      <td>False</td>\n      <td>win</td>\n      <td>Attack</td>\n    </tr>\n    <tr>\n      <th>15</th>\n      <td>Jett</td>\n      <td>0:08</td>\n      <td>Reyna</td>\n      <td>True</td>\n      <td>False</td>\n      <td>win</td>\n      <td>Attack</td>\n    </tr>\n    <tr>\n      <th>16</th>\n      <td>Cypher</td>\n      <td>0:02</td>\n      <td>Jett</td>\n      <td>False</td>\n      <td>False</td>\n      <td>loss</td>\n      <td>Attack</td>\n    </tr>\n    <tr>\n      <th>17</th>\n      <td>Phoenix</td>\n      <td>0:07</td>\n      <td>KAY/O</td>\n      <td>False</td>\n      <td>False</td>\n      <td>loss</td>\n      <td>Attack</td>\n    </tr>\n    <tr>\n      <th>18</th>\n      <td>Reyna</td>\n      <td>0:06</td>\n      <td>Cypher</td>\n      <td>False</td>\n      <td>False</td>\n      <td>loss</td>\n      <td>Attack</td>\n    </tr>\n    <tr>\n      <th>19</th>\n      <td>Reyna</td>\n      <td>0:13</td>\n      <td>Phoenix</td>\n      <td>True</td>\n      <td>False</td>\n      <td>win</td>\n      <td>Attack</td>\n    </tr>\n    <tr>\n      <th>20</th>\n      <td>Chamber</td>\n      <td>0:02</td>\n      <td>Jett</td>\n      <td>True</td>\n      <td>False</td>\n      <td>win</td>\n      <td>Attack</td>\n    </tr>\n    <tr>\n      <th>21</th>\n      <td>Jett</td>\n      <td>0:05</td>\n      <td>Brimstone</td>\n      <td>True</td>\n      <td>False</td>\n      <td>win</td>\n      <td>Attack</td>\n    </tr>\n    <tr>\n      <th>22</th>\n      <td>Brimstone</td>\n      <td>0:06</td>\n      <td>Phoenix</td>\n      <td>True</td>\n      <td>False</td>\n      <td>win</td>\n      <td>Attack</td>\n    </tr>\n    <tr>\n      <th>23</th>\n      <td>Jett</td>\n      <td>0:08</td>\n      <td>KAY/O</td>\n      <td>False</td>\n      <td>False</td>\n      <td>loss</td>\n      <td>Attack</td>\n    </tr>\n    <tr>\n      <th>24</th>\n      <td>Brimstone</td>\n      <td>0:17</td>\n      <td>Raze</td>\n      <td>True</td>\n      <td>False</td>\n      <td>win</td>\n      <td>Attack</td>\n    </tr>\n  </tbody>\n</table>\n</div>"
     },
     "execution_count": 18,
     "metadata": {},
     "output_type": "execute_result"
    }
   ],
   "source": [
    "df.query('time < \"0:30\"')"
   ],
   "metadata": {
    "collapsed": false,
    "ExecuteTime": {
     "end_time": "2023-08-14T15:44:24.957420300Z",
     "start_time": "2023-08-14T15:44:24.940465600Z"
    }
   },
   "id": "aba31144afcdc6b2"
  },
  {
   "cell_type": "code",
   "execution_count": 20,
   "outputs": [
    {
     "data": {
      "text/plain": "0.4583333333333333"
     },
     "execution_count": 20,
     "metadata": {},
     "output_type": "execute_result"
    }
   ],
   "source": [],
   "metadata": {
    "collapsed": false,
    "ExecuteTime": {
     "end_time": "2023-08-14T15:51:32.928737300Z",
     "start_time": "2023-08-14T15:51:32.916746200Z"
    }
   },
   "id": "331da5fbd2de0749"
  },
  {
   "cell_type": "code",
   "execution_count": null,
   "outputs": [],
   "source": [],
   "metadata": {
    "collapsed": false
   },
   "id": "92c1ef2484662f6d"
  }
 ],
 "metadata": {
  "kernelspec": {
   "display_name": "Python 3",
   "language": "python",
   "name": "python3"
  },
  "language_info": {
   "codemirror_mode": {
    "name": "ipython",
    "version": 2
   },
   "file_extension": ".py",
   "mimetype": "text/x-python",
   "name": "python",
   "nbconvert_exporter": "python",
   "pygments_lexer": "ipython2",
   "version": "2.7.6"
  }
 },
 "nbformat": 4,
 "nbformat_minor": 5
}
