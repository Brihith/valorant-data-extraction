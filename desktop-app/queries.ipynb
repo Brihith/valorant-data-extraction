{
 "cells": [
  {
   "cell_type": "code",
   "execution_count": 4,
   "id": "initial_id",
   "metadata": {
    "collapsed": true,
    "ExecuteTime": {
     "end_time": "2023-08-14T13:47:05.527180800Z",
     "start_time": "2023-08-14T13:47:05.513220500Z"
    }
   },
   "outputs": [],
   "source": [
    "import pandas as pd, matplotlib.pyplot as plt, numpy as np"
   ]
  },
  {
   "cell_type": "code",
   "execution_count": 7,
   "outputs": [],
   "source": [
    "df = pd.read_csv(r'D:\\PROJECTS\\demo-analysis-timeline\\res\\scrims\\lotus_14_08_2023_time_20_06.csv', sep='\\t', index_col=0)"
   ],
   "metadata": {
    "collapsed": false,
    "ExecuteTime": {
     "end_time": "2023-08-14T14:36:51.653591200Z",
     "start_time": "2023-08-14T14:36:51.594991800Z"
    }
   },
   "id": "67d2520bfef12413"
  },
  {
   "cell_type": "code",
   "execution_count": 8,
   "outputs": [
    {
     "data": {
      "text/plain": "   first_kill  time first_death  planted  defuse round_win  side\n1     Phoenix  0:04       Reyna    False   False       win   NaN\n2        Jett  0:07        Jett    False   False       win   NaN\n3        Jett  0:06        Jett     True   False      loss   NaN\n4    Deadlock  0:04        Jett     True   False      loss   NaN\n5        Jett  0:06        Jett    False   False       win   NaN\n6        Jett  0:16     Chamber    False   False       win   NaN\n7    Deadlock  0:06        Jett    False   False       win   NaN\n8        Omen  0:03       Reyna     True   False      loss   NaN\n9     Chamber  0:19     Phoenix    False   False       win   NaN\n10      Reyna  0:09        Jett     True   False      loss   NaN\n11    Killjoy  0:19       Reyna     True   False      loss   NaN\n12       Jett  0:04        Jett    False   False      loss   NaN\n13       Jett  0:04        Jett    False   False      loss   NaN\n14       Jett  0:04       Reyna    False   False      loss   NaN\n15    Phoenix  0:03        Jett     True   False       win   NaN\n16      Reyna  0:03        Jett    False   False      loss   NaN\n17      Reyna  0:05    Deadlock    False   False      loss   NaN\n18   Deadlock  0:04        Jett     True   False       win   NaN\n19    Chamber  0:11       Reyna     True    True      loss   NaN\n20      Reyna  0:03       Reyna     True    True      loss   NaN\n21       Jett  0:03        Jett    False   False      loss   NaN",
      "text/html": "<div>\n<style scoped>\n    .dataframe tbody tr th:only-of-type {\n        vertical-align: middle;\n    }\n\n    .dataframe tbody tr th {\n        vertical-align: top;\n    }\n\n    .dataframe thead th {\n        text-align: right;\n    }\n</style>\n<table border=\"1\" class=\"dataframe\">\n  <thead>\n    <tr style=\"text-align: right;\">\n      <th></th>\n      <th>first_kill</th>\n      <th>time</th>\n      <th>first_death</th>\n      <th>planted</th>\n      <th>defuse</th>\n      <th>round_win</th>\n      <th>side</th>\n    </tr>\n  </thead>\n  <tbody>\n    <tr>\n      <th>1</th>\n      <td>Phoenix</td>\n      <td>0:04</td>\n      <td>Reyna</td>\n      <td>False</td>\n      <td>False</td>\n      <td>win</td>\n      <td>NaN</td>\n    </tr>\n    <tr>\n      <th>2</th>\n      <td>Jett</td>\n      <td>0:07</td>\n      <td>Jett</td>\n      <td>False</td>\n      <td>False</td>\n      <td>win</td>\n      <td>NaN</td>\n    </tr>\n    <tr>\n      <th>3</th>\n      <td>Jett</td>\n      <td>0:06</td>\n      <td>Jett</td>\n      <td>True</td>\n      <td>False</td>\n      <td>loss</td>\n      <td>NaN</td>\n    </tr>\n    <tr>\n      <th>4</th>\n      <td>Deadlock</td>\n      <td>0:04</td>\n      <td>Jett</td>\n      <td>True</td>\n      <td>False</td>\n      <td>loss</td>\n      <td>NaN</td>\n    </tr>\n    <tr>\n      <th>5</th>\n      <td>Jett</td>\n      <td>0:06</td>\n      <td>Jett</td>\n      <td>False</td>\n      <td>False</td>\n      <td>win</td>\n      <td>NaN</td>\n    </tr>\n    <tr>\n      <th>6</th>\n      <td>Jett</td>\n      <td>0:16</td>\n      <td>Chamber</td>\n      <td>False</td>\n      <td>False</td>\n      <td>win</td>\n      <td>NaN</td>\n    </tr>\n    <tr>\n      <th>7</th>\n      <td>Deadlock</td>\n      <td>0:06</td>\n      <td>Jett</td>\n      <td>False</td>\n      <td>False</td>\n      <td>win</td>\n      <td>NaN</td>\n    </tr>\n    <tr>\n      <th>8</th>\n      <td>Omen</td>\n      <td>0:03</td>\n      <td>Reyna</td>\n      <td>True</td>\n      <td>False</td>\n      <td>loss</td>\n      <td>NaN</td>\n    </tr>\n    <tr>\n      <th>9</th>\n      <td>Chamber</td>\n      <td>0:19</td>\n      <td>Phoenix</td>\n      <td>False</td>\n      <td>False</td>\n      <td>win</td>\n      <td>NaN</td>\n    </tr>\n    <tr>\n      <th>10</th>\n      <td>Reyna</td>\n      <td>0:09</td>\n      <td>Jett</td>\n      <td>True</td>\n      <td>False</td>\n      <td>loss</td>\n      <td>NaN</td>\n    </tr>\n    <tr>\n      <th>11</th>\n      <td>Killjoy</td>\n      <td>0:19</td>\n      <td>Reyna</td>\n      <td>True</td>\n      <td>False</td>\n      <td>loss</td>\n      <td>NaN</td>\n    </tr>\n    <tr>\n      <th>12</th>\n      <td>Jett</td>\n      <td>0:04</td>\n      <td>Jett</td>\n      <td>False</td>\n      <td>False</td>\n      <td>loss</td>\n      <td>NaN</td>\n    </tr>\n    <tr>\n      <th>13</th>\n      <td>Jett</td>\n      <td>0:04</td>\n      <td>Jett</td>\n      <td>False</td>\n      <td>False</td>\n      <td>loss</td>\n      <td>NaN</td>\n    </tr>\n    <tr>\n      <th>14</th>\n      <td>Jett</td>\n      <td>0:04</td>\n      <td>Reyna</td>\n      <td>False</td>\n      <td>False</td>\n      <td>loss</td>\n      <td>NaN</td>\n    </tr>\n    <tr>\n      <th>15</th>\n      <td>Phoenix</td>\n      <td>0:03</td>\n      <td>Jett</td>\n      <td>True</td>\n      <td>False</td>\n      <td>win</td>\n      <td>NaN</td>\n    </tr>\n    <tr>\n      <th>16</th>\n      <td>Reyna</td>\n      <td>0:03</td>\n      <td>Jett</td>\n      <td>False</td>\n      <td>False</td>\n      <td>loss</td>\n      <td>NaN</td>\n    </tr>\n    <tr>\n      <th>17</th>\n      <td>Reyna</td>\n      <td>0:05</td>\n      <td>Deadlock</td>\n      <td>False</td>\n      <td>False</td>\n      <td>loss</td>\n      <td>NaN</td>\n    </tr>\n    <tr>\n      <th>18</th>\n      <td>Deadlock</td>\n      <td>0:04</td>\n      <td>Jett</td>\n      <td>True</td>\n      <td>False</td>\n      <td>win</td>\n      <td>NaN</td>\n    </tr>\n    <tr>\n      <th>19</th>\n      <td>Chamber</td>\n      <td>0:11</td>\n      <td>Reyna</td>\n      <td>True</td>\n      <td>True</td>\n      <td>loss</td>\n      <td>NaN</td>\n    </tr>\n    <tr>\n      <th>20</th>\n      <td>Reyna</td>\n      <td>0:03</td>\n      <td>Reyna</td>\n      <td>True</td>\n      <td>True</td>\n      <td>loss</td>\n      <td>NaN</td>\n    </tr>\n    <tr>\n      <th>21</th>\n      <td>Jett</td>\n      <td>0:03</td>\n      <td>Jett</td>\n      <td>False</td>\n      <td>False</td>\n      <td>loss</td>\n      <td>NaN</td>\n    </tr>\n  </tbody>\n</table>\n</div>"
     },
     "execution_count": 8,
     "metadata": {},
     "output_type": "execute_result"
    }
   ],
   "source": [
    "df"
   ],
   "metadata": {
    "collapsed": false,
    "ExecuteTime": {
     "end_time": "2023-08-14T14:36:52.499462700Z",
     "start_time": "2023-08-14T14:36:52.454661400Z"
    }
   },
   "id": "5843abcff473c7c7"
  },
  {
   "cell_type": "code",
   "execution_count": 10,
   "outputs": [
    {
     "data": {
      "text/plain": "   first_kill  time first_death  planted  defuse round_win  side\n15    Phoenix  0:03        Jett     True   False       win   NaN\n18   Deadlock  0:04        Jett     True   False       win   NaN",
      "text/html": "<div>\n<style scoped>\n    .dataframe tbody tr th:only-of-type {\n        vertical-align: middle;\n    }\n\n    .dataframe tbody tr th {\n        vertical-align: top;\n    }\n\n    .dataframe thead th {\n        text-align: right;\n    }\n</style>\n<table border=\"1\" class=\"dataframe\">\n  <thead>\n    <tr style=\"text-align: right;\">\n      <th></th>\n      <th>first_kill</th>\n      <th>time</th>\n      <th>first_death</th>\n      <th>planted</th>\n      <th>defuse</th>\n      <th>round_win</th>\n      <th>side</th>\n    </tr>\n  </thead>\n  <tbody>\n    <tr>\n      <th>15</th>\n      <td>Phoenix</td>\n      <td>0:03</td>\n      <td>Jett</td>\n      <td>True</td>\n      <td>False</td>\n      <td>win</td>\n      <td>NaN</td>\n    </tr>\n    <tr>\n      <th>18</th>\n      <td>Deadlock</td>\n      <td>0:04</td>\n      <td>Jett</td>\n      <td>True</td>\n      <td>False</td>\n      <td>win</td>\n      <td>NaN</td>\n    </tr>\n  </tbody>\n</table>\n</div>"
     },
     "execution_count": 10,
     "metadata": {},
     "output_type": "execute_result"
    }
   ],
   "source": [
    "df.query('planted == True & round_win == \"win\"')"
   ],
   "metadata": {
    "collapsed": false,
    "ExecuteTime": {
     "end_time": "2023-08-14T14:37:10.212213900Z",
     "start_time": "2023-08-14T14:37:10.203727300Z"
    }
   },
   "id": "f17321f65cce931b"
  },
  {
   "cell_type": "code",
   "execution_count": 11,
   "outputs": [
    {
     "data": {
      "text/plain": "   first_kill  time first_death  planted  defuse round_win  side\n2        Jett  0:07        Jett    False   False       win   NaN\n3        Jett  0:06        Jett     True   False      loss   NaN\n4    Deadlock  0:04        Jett     True   False      loss   NaN\n5        Jett  0:06        Jett    False   False       win   NaN\n7    Deadlock  0:06        Jett    False   False       win   NaN\n10      Reyna  0:09        Jett     True   False      loss   NaN\n12       Jett  0:04        Jett    False   False      loss   NaN\n13       Jett  0:04        Jett    False   False      loss   NaN\n15    Phoenix  0:03        Jett     True   False       win   NaN\n16      Reyna  0:03        Jett    False   False      loss   NaN\n18   Deadlock  0:04        Jett     True   False       win   NaN\n21       Jett  0:03        Jett    False   False      loss   NaN",
      "text/html": "<div>\n<style scoped>\n    .dataframe tbody tr th:only-of-type {\n        vertical-align: middle;\n    }\n\n    .dataframe tbody tr th {\n        vertical-align: top;\n    }\n\n    .dataframe thead th {\n        text-align: right;\n    }\n</style>\n<table border=\"1\" class=\"dataframe\">\n  <thead>\n    <tr style=\"text-align: right;\">\n      <th></th>\n      <th>first_kill</th>\n      <th>time</th>\n      <th>first_death</th>\n      <th>planted</th>\n      <th>defuse</th>\n      <th>round_win</th>\n      <th>side</th>\n    </tr>\n  </thead>\n  <tbody>\n    <tr>\n      <th>2</th>\n      <td>Jett</td>\n      <td>0:07</td>\n      <td>Jett</td>\n      <td>False</td>\n      <td>False</td>\n      <td>win</td>\n      <td>NaN</td>\n    </tr>\n    <tr>\n      <th>3</th>\n      <td>Jett</td>\n      <td>0:06</td>\n      <td>Jett</td>\n      <td>True</td>\n      <td>False</td>\n      <td>loss</td>\n      <td>NaN</td>\n    </tr>\n    <tr>\n      <th>4</th>\n      <td>Deadlock</td>\n      <td>0:04</td>\n      <td>Jett</td>\n      <td>True</td>\n      <td>False</td>\n      <td>loss</td>\n      <td>NaN</td>\n    </tr>\n    <tr>\n      <th>5</th>\n      <td>Jett</td>\n      <td>0:06</td>\n      <td>Jett</td>\n      <td>False</td>\n      <td>False</td>\n      <td>win</td>\n      <td>NaN</td>\n    </tr>\n    <tr>\n      <th>7</th>\n      <td>Deadlock</td>\n      <td>0:06</td>\n      <td>Jett</td>\n      <td>False</td>\n      <td>False</td>\n      <td>win</td>\n      <td>NaN</td>\n    </tr>\n    <tr>\n      <th>10</th>\n      <td>Reyna</td>\n      <td>0:09</td>\n      <td>Jett</td>\n      <td>True</td>\n      <td>False</td>\n      <td>loss</td>\n      <td>NaN</td>\n    </tr>\n    <tr>\n      <th>12</th>\n      <td>Jett</td>\n      <td>0:04</td>\n      <td>Jett</td>\n      <td>False</td>\n      <td>False</td>\n      <td>loss</td>\n      <td>NaN</td>\n    </tr>\n    <tr>\n      <th>13</th>\n      <td>Jett</td>\n      <td>0:04</td>\n      <td>Jett</td>\n      <td>False</td>\n      <td>False</td>\n      <td>loss</td>\n      <td>NaN</td>\n    </tr>\n    <tr>\n      <th>15</th>\n      <td>Phoenix</td>\n      <td>0:03</td>\n      <td>Jett</td>\n      <td>True</td>\n      <td>False</td>\n      <td>win</td>\n      <td>NaN</td>\n    </tr>\n    <tr>\n      <th>16</th>\n      <td>Reyna</td>\n      <td>0:03</td>\n      <td>Jett</td>\n      <td>False</td>\n      <td>False</td>\n      <td>loss</td>\n      <td>NaN</td>\n    </tr>\n    <tr>\n      <th>18</th>\n      <td>Deadlock</td>\n      <td>0:04</td>\n      <td>Jett</td>\n      <td>True</td>\n      <td>False</td>\n      <td>win</td>\n      <td>NaN</td>\n    </tr>\n    <tr>\n      <th>21</th>\n      <td>Jett</td>\n      <td>0:03</td>\n      <td>Jett</td>\n      <td>False</td>\n      <td>False</td>\n      <td>loss</td>\n      <td>NaN</td>\n    </tr>\n  </tbody>\n</table>\n</div>"
     },
     "execution_count": 11,
     "metadata": {},
     "output_type": "execute_result"
    }
   ],
   "source": [
    "df.query('first_death == \"Jett\"')"
   ],
   "metadata": {
    "collapsed": false,
    "ExecuteTime": {
     "end_time": "2023-08-14T14:37:23.838558800Z",
     "start_time": "2023-08-14T14:37:23.823975800Z"
    }
   },
   "id": "4640e753f9ec4658"
  },
  {
   "cell_type": "markdown",
   "source": [
    "df.query('time < \"0:30\"')"
   ],
   "metadata": {
    "collapsed": false
   },
   "id": "9b5e335f6a12d509"
  },
  {
   "cell_type": "code",
   "execution_count": null,
   "outputs": [],
   "source": [],
   "metadata": {
    "collapsed": false
   },
   "id": "331da5fbd2de0749"
  }
 ],
 "metadata": {
  "kernelspec": {
   "display_name": "Python 3",
   "language": "python",
   "name": "python3"
  },
  "language_info": {
   "codemirror_mode": {
    "name": "ipython",
    "version": 2
   },
   "file_extension": ".py",
   "mimetype": "text/x-python",
   "name": "python",
   "nbconvert_exporter": "python",
   "pygments_lexer": "ipython2",
   "version": "2.7.6"
  }
 },
 "nbformat": 4,
 "nbformat_minor": 5
}
