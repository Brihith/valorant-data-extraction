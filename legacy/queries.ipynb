{
 "cells": [
  {
   "cell_type": "code",
   "execution_count": 1,
   "id": "initial_id",
   "metadata": {
    "collapsed": true,
    "ExecuteTime": {
     "end_time": "2023-08-20T16:15:39.837651600Z",
     "start_time": "2023-08-20T16:15:37.003113900Z"
    }
   },
   "outputs": [],
   "source": [
    "# Importing packages/modules/libraries\n",
    "import pandas as pd, matplotlib.pyplot as plt, numpy as np"
   ]
  },
  {
   "cell_type": "code",
   "execution_count": null,
   "outputs": [],
   "source": [],
   "metadata": {
    "collapsed": false
   },
   "id": "3699ebe56c9a3513"
  },
  {
   "cell_type": "code",
   "execution_count": null,
   "outputs": [],
   "source": [],
   "metadata": {
    "collapsed": false
   },
   "id": "5836a11f78a0cf0c"
  },
  {
   "cell_type": "code",
   "execution_count": null,
   "outputs": [],
   "source": [],
   "metadata": {
    "collapsed": false
   },
   "id": "b42f3f15e8cc74b4"
  },
  {
   "cell_type": "code",
   "execution_count": null,
   "outputs": [],
   "source": [],
   "metadata": {
    "collapsed": false
   },
   "id": "303a026f110d4640"
  },
  {
   "cell_type": "code",
   "execution_count": null,
   "outputs": [],
   "source": [],
   "metadata": {
    "collapsed": false
   },
   "id": "c3a9a45f53e35129"
  },
  {
   "cell_type": "code",
   "execution_count": null,
   "outputs": [],
   "source": [],
   "metadata": {
    "collapsed": false
   },
   "id": "58a19e38450f8a65"
  },
  {
   "cell_type": "code",
   "execution_count": null,
   "outputs": [],
   "source": [],
   "metadata": {
    "collapsed": false
   },
   "id": "be967bd02f5ad4d4"
  },
  {
   "cell_type": "code",
   "execution_count": null,
   "outputs": [],
   "source": [],
   "metadata": {
    "collapsed": false
   },
   "id": "37165dfcaad501ba"
  },
  {
   "cell_type": "code",
   "execution_count": null,
   "outputs": [],
   "source": [],
   "metadata": {
    "collapsed": false
   },
   "id": "4d735570c9c44e3c"
  },
  {
   "cell_type": "code",
   "execution_count": null,
   "outputs": [],
   "source": [],
   "metadata": {
    "collapsed": false
   },
   "id": "c382e3e070edfe76"
  },
  {
   "cell_type": "markdown",
   "source": [
    "## Importing the csvs\n",
    "\n",
    "All the paths of the csv files are typed out into the pd.read_csv() function and loaded into their own seperate tables, which must then be made into one large table."
   ],
   "metadata": {
    "collapsed": false
   },
   "id": "f4b9fac759586540"
  },
  {
   "cell_type": "code",
   "execution_count": 12,
   "outputs": [],
   "source": [
    "df = pd.read_csv(r'D:\\PROJECTS\\demo-analysis-timeline\\res\\scrims\\lotus_18_08_2023_time_21_41.csv', sep='\\t', index_col=0)\n",
    "df1 = pd.read_csv(r'D:\\PROJECTS\\demo-analysis-timeline\\res\\scrims\\lotus_18_08_2023_time_21_44.csv', sep='\\t', index_col=0)\n",
    "df2 = pd.read_csv(r'D:\\PROJECTS\\demo-analysis-timeline\\res\\scrims\\lotus_18_08_2023_time_21_55.csv', sep='\\t', index_col=0)\n",
    "df3 = pd.read_csv(r'D:\\PROJECTS\\demo-analysis-timeline\\res\\scrims\\lotus_18_08_2023_time_21_57.csv', sep='\\t', index_col=0)\n",
    "df4 = pd.read_csv(r'D:\\PROJECTS\\demo-analysis-timeline\\res\\scrims\\lotus_18_08_2023_time_22_10.csv', sep='\\t', index_col=0)"
   ],
   "metadata": {
    "collapsed": false,
    "ExecuteTime": {
     "end_time": "2023-08-18T16:49:49.448148700Z",
     "start_time": "2023-08-18T16:49:49.435270200Z"
    }
   },
   "id": "67d2520bfef12413"
  },
  {
   "cell_type": "markdown",
   "source": [
    "## Loading all 5 csv files into one dataframe (table)\n",
    "\n",
    "This is done using pd.concat() function, since all of them are concatenated."
   ],
   "metadata": {
    "collapsed": false
   },
   "id": "379e9a2df347b9ab"
  },
  {
   "cell_type": "code",
   "execution_count": 101,
   "outputs": [
    {
     "name": "stdout",
     "output_type": "stream",
     "text": [
      "   first_kill  time first_death  planted   fb_team  defuse    side  \\\n",
      "1        Fade  0:17      Harbor    False       you   False  Attack   \n",
      "2        Jett  0:16        Fade    False  opponent   False  Attack   \n",
      "3       Reyna  0:03      Harbor     True       you   False  Attack   \n",
      "4        Jett  0:04        Omen     True       you   False  Attack   \n",
      "5       Reyna  0:05        Sage    False       you   False  Attack   \n",
      "..        ...   ...         ...      ...       ...     ...     ...   \n",
      "20      Gekko  0:02        Neon     True  opponent   False  Attack   \n",
      "21       Raze  0:15        Neon     True  opponent    True  Attack   \n",
      "22       Jett  0:12   Brimstone     True  opponent   False  Attack   \n",
      "23       Raze  0:06   Brimstone     True  opponent    True  Attack   \n",
      "24      Gekko  0:02   Brimstone     True  opponent   False  Attack   \n",
      "\n",
      "      fb_players    dt_players team_buy oppo_buy round_win  \n",
      "1   Gunda Ganesh           NaN      600      600      loss  \n",
      "2            NaN  Gunda Ganesh      300    3,100      loss  \n",
      "3         ValkoN           NaN    4,300    3,200       win  \n",
      "4           ANXY           NaN    4,400    4,400       win  \n",
      "5         ValkoN    Sagittario    4,100      800       win  \n",
      "..           ...           ...      ...      ...       ...  \n",
      "20    Lil Edward        ValkoN    4,900    2,200       win  \n",
      "21  CuteThiccBoi        ValkoN    5,000    3,500      loss  \n",
      "22         Zhask         ROXER    4,400    4,300       win  \n",
      "23  CuteThiccBoi         ROXER    4,500    3,200      loss  \n",
      "24    Lil Edward         ROXER    3,700    3,900       win  \n",
      "\n",
      "[108 rows x 12 columns]\n"
     ]
    }
   ],
   "source": [
    "data = pd.concat([df,df1,df2,df3,df4])\n",
    "print(data)"
   ],
   "metadata": {
    "collapsed": false,
    "ExecuteTime": {
     "end_time": "2023-08-18T17:14:45.508987300Z",
     "start_time": "2023-08-18T17:14:45.496925200Z"
    }
   },
   "id": "5843abcff473c7c7"
  },
  {
   "cell_type": "code",
   "execution_count": 161,
   "outputs": [
    {
     "name": "stdout",
     "output_type": "stream",
     "text": [
      "<class 'pandas.core.frame.DataFrame'>\n",
      "Index: 108 entries, 1 to 24\n",
      "Data columns (total 12 columns):\n",
      " #   Column       Non-Null Count  Dtype \n",
      "---  ------       --------------  ----- \n",
      " 0   first_kill   108 non-null    object\n",
      " 1   time         108 non-null    object\n",
      " 2   first_death  108 non-null    object\n",
      " 3   planted      108 non-null    bool  \n",
      " 4   fb_team      108 non-null    object\n",
      " 5   defuse       108 non-null    bool  \n",
      " 6   side         108 non-null    object\n",
      " 7   fb_players   91 non-null     object\n",
      " 8   dt_players   74 non-null     object\n",
      " 9   team_buy     108 non-null    int32 \n",
      " 10  oppo_buy     108 non-null    int32 \n",
      " 11  round_win    108 non-null    object\n",
      "dtypes: bool(2), int32(2), object(8)\n",
      "memory usage: 8.6+ KB\n"
     ]
    }
   ],
   "source": [
    "data.info()"
   ],
   "metadata": {
    "collapsed": false,
    "ExecuteTime": {
     "end_time": "2023-08-18T17:36:55.009796900Z",
     "start_time": "2023-08-18T17:36:54.986858500Z"
    }
   },
   "id": "7c3ae0b6c24b194"
  },
  {
   "cell_type": "markdown",
   "source": [
    "## Data preprocessing / cleaning\n",
    "\n",
    "Team buy and oppo buy columns are currently strings rather than objects so we have to convert them into integers so we can perform artihmetic operations and calculations on them."
   ],
   "metadata": {
    "collapsed": false
   },
   "id": "e83a7eaae43372ba"
  },
  {
   "cell_type": "code",
   "execution_count": 119,
   "outputs": [],
   "source": [
    "data.team_buy = data.team_buy.str.replace(',','')\n",
    "data.oppo_buy = data.oppo_buy.str.replace(',','')"
   ],
   "metadata": {
    "collapsed": false,
    "ExecuteTime": {
     "end_time": "2023-08-18T17:17:47.198914500Z",
     "start_time": "2023-08-18T17:17:47.185317600Z"
    }
   },
   "id": "331e5e3663f02f42"
  },
  {
   "cell_type": "code",
   "execution_count": 120,
   "outputs": [],
   "source": [
    "data.team_buy = data.team_buy.astype(int)\n",
    "data.oppo_buy = data.oppo_buy.astype(int)\n"
   ],
   "metadata": {
    "collapsed": false,
    "ExecuteTime": {
     "end_time": "2023-08-18T17:17:48.260146300Z",
     "start_time": "2023-08-18T17:17:48.253738300Z"
    }
   },
   "id": "91f465d4f8edbe70"
  },
  {
   "cell_type": "code",
   "execution_count": 121,
   "outputs": [
    {
     "name": "stdout",
     "output_type": "stream",
     "text": [
      "<class 'pandas.core.frame.DataFrame'>\n",
      "Index: 108 entries, 1 to 24\n",
      "Data columns (total 12 columns):\n",
      " #   Column       Non-Null Count  Dtype \n",
      "---  ------       --------------  ----- \n",
      " 0   first_kill   108 non-null    object\n",
      " 1   time         108 non-null    object\n",
      " 2   first_death  108 non-null    object\n",
      " 3   planted      108 non-null    bool  \n",
      " 4   fb_team      108 non-null    object\n",
      " 5   defuse       108 non-null    bool  \n",
      " 6   side         108 non-null    object\n",
      " 7   fb_players   91 non-null     object\n",
      " 8   dt_players   74 non-null     object\n",
      " 9   team_buy     108 non-null    int32 \n",
      " 10  oppo_buy     108 non-null    int32 \n",
      " 11  round_win    108 non-null    object\n",
      "dtypes: bool(2), int32(2), object(8)\n",
      "memory usage: 8.6+ KB\n"
     ]
    }
   ],
   "source": [
    "data.info()"
   ],
   "metadata": {
    "collapsed": false,
    "ExecuteTime": {
     "end_time": "2023-08-18T17:17:51.160130200Z",
     "start_time": "2023-08-18T17:17:51.142036200Z"
    }
   },
   "id": "f17321f65cce931b"
  },
  {
   "cell_type": "markdown",
   "source": [
    "# Queries:\n",
    "\n",
    "These are different questions that data can answer for you in context"
   ],
   "metadata": {
    "collapsed": false
   },
   "id": "801913e10bf42799"
  },
  {
   "cell_type": "markdown",
   "source": [],
   "metadata": {
    "collapsed": false
   },
   "id": "7673d6cf3a4b665"
  },
  {
   "cell_type": "code",
   "execution_count": 124,
   "outputs": [
    {
     "data": {
      "text/plain": "5      win\n8      win\n11     win\n5      win\n8      win\n11     win\n4     loss\n6      win\n9      win\n10     win\n11     win\n9     loss\n14     win\n15    loss\n17     win\n18    loss\nName: round_win, dtype: object"
     },
     "execution_count": 124,
     "metadata": {},
     "output_type": "execute_result"
    }
   ],
   "source": [
    "data.query('team_buy >= 3500 & oppo_buy <= 2000')['round_win']"
   ],
   "metadata": {
    "collapsed": false,
    "ExecuteTime": {
     "end_time": "2023-08-18T17:18:13.156464900Z",
     "start_time": "2023-08-18T17:18:13.136652900Z"
    }
   },
   "id": "4640e753f9ec4658"
  },
  {
   "cell_type": "code",
   "execution_count": 109,
   "outputs": [
    {
     "data": {
      "text/plain": "round_win\nloss    14\nwin      7\nName: count, dtype: int64"
     },
     "execution_count": 109,
     "metadata": {},
     "output_type": "execute_result"
    }
   ],
   "source": [
    "data.query('time > \"0:15\"')['round_win'].value_counts()"
   ],
   "metadata": {
    "collapsed": false,
    "ExecuteTime": {
     "end_time": "2023-08-18T17:15:48.767752500Z",
     "start_time": "2023-08-18T17:15:48.753118700Z"
    }
   },
   "id": "aba31144afcdc6b2"
  },
  {
   "cell_type": "code",
   "execution_count": 153,
   "outputs": [
    {
     "data": {
      "text/plain": "first_kill\nJett         19\nRaze         10\nReyna         7\nNeon          6\nChamber       5\nSkye          4\nHarbor        4\nKilljoy       3\nGekko         3\nKAY/O         2\nBreach        2\nCypher        2\nSage          2\nViper         2\nFade          2\nOmen          2\nAstra         1\nBrimstone     1\nName: count, dtype: int64"
     },
     "execution_count": 153,
     "metadata": {},
     "output_type": "execute_result"
    }
   ],
   "source": [
    "data.query('planted == True')['round_win'].value_counts()"
   ],
   "metadata": {
    "collapsed": false,
    "ExecuteTime": {
     "end_time": "2023-08-18T17:31:51.854175500Z",
     "start_time": "2023-08-18T17:31:51.831498600Z"
    }
   },
   "id": "331da5fbd2de0749"
  },
  {
   "cell_type": "code",
   "execution_count": 156,
   "outputs": [
    {
     "data": {
      "text/plain": "first_kill\nReyna        11\nJett         11\nFade          8\nNeon          7\nRaze          5\nKilljoy       4\nViper         2\nBreach        2\nAstra         2\nCypher        1\nHarbor        1\nChamber       1\nBrimstone     1\nGekko         1\nName: count, dtype: int64"
     },
     "execution_count": 156,
     "metadata": {},
     "output_type": "execute_result"
    }
   ],
   "source": [
    "data.query('fb_team == \"you\"')['first_kill'].value_counts()"
   ],
   "metadata": {
    "collapsed": false,
    "ExecuteTime": {
     "end_time": "2023-08-18T17:32:29.745379900Z",
     "start_time": "2023-08-18T17:32:29.722113200Z"
    }
   },
   "id": "8e260f5bcdaa8660"
  },
  {
   "cell_type": "code",
   "execution_count": 158,
   "outputs": [
    {
     "data": {
      "text/plain": "round_win\nwin     23\nloss    11\nName: count, dtype: int64"
     },
     "execution_count": 158,
     "metadata": {},
     "output_type": "execute_result"
    }
   ],
   "source": [
    "data.query('(first_kill == \"Jett\" | first_kill == \"Neon\" | first_kill == \"Raze\"| first_kill == \"Reyna\"| first_kill == \"Raze\") & fb_team == \"you\"')['round_win'].value_counts()"
   ],
   "metadata": {
    "collapsed": false,
    "ExecuteTime": {
     "end_time": "2023-08-18T17:33:07.174458Z",
     "start_time": "2023-08-18T17:33:07.156839Z"
    }
   },
   "id": "92c1ef2484662f6d"
  },
  {
   "cell_type": "code",
   "execution_count": null,
   "outputs": [],
   "source": [
    "bonus\n",
    "site a b\n",
    "guns saved \n",
    "round conversion post guns save\n",
    "trades\n",
    "weapons saved"
   ],
   "metadata": {
    "collapsed": false
   },
   "id": "16e2eed82b70e6b8"
  }
 ],
 "metadata": {
  "kernelspec": {
   "display_name": "Python 3",
   "language": "python",
   "name": "python3"
  },
  "language_info": {
   "codemirror_mode": {
    "name": "ipython",
    "version": 2
   },
   "file_extension": ".py",
   "mimetype": "text/x-python",
   "name": "python",
   "nbconvert_exporter": "python",
   "pygments_lexer": "ipython2",
   "version": "2.7.6"
  }
 },
 "nbformat": 4,
 "nbformat_minor": 5
}
